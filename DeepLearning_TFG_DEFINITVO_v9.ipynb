{
 "cells": [
  {
   "cell_type": "markdown",
   "id": "7f4416e3",
   "metadata": {
    "id": "lIrg7vKHOvp_"
   },
   "source": [
    "# <span style=\"color:#800080;font-size:60px;\"> DEEP LEARNING  </span>\n",
    " <span style=\"color:#1B3B6F;font-size:30px;\"> IRENE EIROS FONSECA  </span>"
   ]
  },
  {
   "cell_type": "code",
   "execution_count": 2,
   "id": "1f02d640",
   "metadata": {},
   "outputs": [],
   "source": [
    "import numpy as np\n",
    "import matplotlib.pyplot as plt\n",
    "import pandas as pd\n",
    "import seaborn as sns\n",
    "import os\n",
    "import json\n",
    "\n",
    "from sklearn.model_selection import train_test_split\n",
    "from sklearn.metrics import confusion_matrix\n",
    "\n",
    "import torch\n",
    "import torch.nn as nn\n",
    "from torch.utils.data import DataLoader, Dataset\n",
    "import torch.optim as optim\n",
    "from torchvision import models\n",
    "import scipy\n",
    "\n",
    "from tqdm import tqdm   # Muestra una barra de progreso del bucle for\n",
    "from torch.optim.lr_scheduler import ExponentialLR\n"
   ]
  },
  {
   "cell_type": "code",
   "execution_count": 3,
   "id": "qXKLh5n9CVdK",
   "metadata": {
    "colab": {
     "base_uri": "https://localhost:8080/"
    },
    "id": "qXKLh5n9CVdK",
    "outputId": "0bca48d2-880c-4e1e-cc50-ba74d0a22ecf"
   },
   "outputs": [
    {
     "name": "stdout",
     "output_type": "stream",
     "text": [
      "Working Path:\t ./\n"
     ]
    }
   ],
   "source": [
    "COLLAB = False\n",
    "if COLLAB:\n",
    "    from google.colab import drive\n",
    "    drive.mount('/content/drive')\n",
    "    PATH_BASE = '/content/drive/MyDrive/Irene&Juan/TFG'\n",
    "    #PATH_BASE = '/content/drive/MyDrive/Datasets'\n",
    "else:\n",
    "    PATH_BASE = './'\n",
    "    #PATH_BASE = 'C:\\\\Users\\\\irene\\\\Desktop\\\\TFG'\n",
    "print('Working Path:\\t', PATH_BASE)"
   ]
  },
  {
   "cell_type": "markdown",
   "id": "4901372d",
   "metadata": {},
   "source": [
    "# <span style=\"color:#1C7293;font-size:20px;\"> CUDA: Computing platform  </span>\n",
    "\n",
    "En este bloque se selecciona los recursos de hardware del ordenador en funcion de si está disponible CUDA o no. Si está disponible se ejecuta sobre el procesador y la memoria de la tarjeta gráfica y si no, sobre la memoria RAM y la CPU. \n",
    "Esto nos ayuda a que sea mas veloz."
   ]
  },
  {
   "cell_type": "code",
   "execution_count": 4,
   "id": "1a0d8368-aab5-4eab-b9cf-63f1a5062684",
   "metadata": {},
   "outputs": [
    {
     "name": "stdout",
     "output_type": "stream",
     "text": [
      "Cuda Available: True\n",
      "Selected Device: cuda:0\n"
     ]
    }
   ],
   "source": [
    "##### CUDA\n",
    "def get_Device(device_type):\n",
    "    \n",
    "    cuda = torch.cuda.is_available()\n",
    "    if (device_type == 'auto'):\n",
    "        if (cuda):\n",
    "            device = torch.device('cuda:0')\n",
    "            torch.cuda.empty_cache()\n",
    "        else:\n",
    "            device = torch.device('cpu')\n",
    "    \n",
    "    if (device_type == 'cpu'):\n",
    "        device = torch.device('cpu')\n",
    "        \n",
    "    if (device_type == 'cuda'):\n",
    "        device = torch.device('cuda:0')\n",
    "    if (device.type =='cuda'):\n",
    "        try:\n",
    "            subprocess.check_output('nvidia-smi')\n",
    "            nvidia = True\n",
    "        except Exception: # this command not being found can raise quite a few different errors depending on the configuration\n",
    "            nvidia = False    \n",
    "    else:\n",
    "        nvidia = False    \n",
    "\n",
    "    return device\n",
    "\n",
    "cuda = torch.cuda.is_available() \n",
    "if cuda:\n",
    "    device = get_Device('cuda')\n",
    "else:\n",
    "    device = get_Device('cpu')\n",
    "\n",
    "print('Cuda Available:', cuda)\n",
    "print('Selected Device:', device)\n"
   ]
  },
  {
   "cell_type": "markdown",
   "id": "bjFkA00JYEo6",
   "metadata": {
    "id": "bjFkA00JYEo6"
   },
   "source": [
    "## A. PREPARACION DE LOS DATOS"
   ]
  },
  {
   "cell_type": "markdown",
   "id": "Sg5jt3o1Pnnu",
   "metadata": {
    "id": "Sg5jt3o1Pnnu"
   },
   "source": [
    "\n",
    "**1. Obtenemos los Datos a partir de los archivos en disco**\n",
    "\n",
    "---\n",
    "En este bloque se selecciona la base de datos y sus caracteristicas principales: canales y clases y el path donde se encuentran los datos. \n"
   ]
  },
  {
   "cell_type": "code",
   "execution_count": 5,
   "id": "af0f1c55",
   "metadata": {},
   "outputs": [
    {
     "name": "stdout",
     "output_type": "stream",
     "text": [
      "./DATOS_KAGGLE\n"
     ]
    }
   ],
   "source": [
    "# DATA SOURCE PARAMETERS \n",
    "SOURCE           = 'KAGGLE'\n",
    "SAMPLE_FREQUENCY = 1000      # SAMPLE FREQUENCY\n",
    "if SOURCE == 'IRENE':\n",
    "    CLASES           = 4         # Categories \n",
    "    CHANNELS         = 1         \n",
    "if SOURCE == 'KAGGLE':\n",
    "    CLASES           = 6         # Categories \n",
    "    CHANNELS         = 8\n",
    "    \n",
    "SAMPLE_MAXDATA   = 8000   \n",
    "\n",
    "if(SOURCE == 'KAGGLE'):\n",
    "    PATH_DATA = os.path.join(PATH_BASE, \"DATOS_KAGGLE\" )    \n",
    "\n",
    "if(SOURCE == 'IRENE'):\n",
    "    PATH_DATA = os.path.join(PATH_BASE, \"DATOS_EMG\" )    \n",
    "print(PATH_DATA)"
   ]
  },
  {
   "cell_type": "markdown",
   "id": "d35f7376",
   "metadata": {},
   "source": [
    "Los datos originales están almacenados de forma distinta en Kaggle (todos los datos en un unico archivo CSV) y en la custom database(se trata de una captura de 10 segundos y se almacena de forma independiente).\n",
    "\n",
    "Cada rutina lo hace de forma independiente, una para cada database. Se leen todos los archivos y se generan archivos binarios con extension \"npy\"(uno para cada clase). \n",
    "\n",
    "Por tanto, cada script se puede ejecutar sea cual sea la base de datos origen.\n",
    "\n"
   ]
  },
  {
   "cell_type": "markdown",
   "id": "443adf95",
   "metadata": {},
   "source": [
    "Se puede elegir qué base de datos queremos elegir... \"Irene\" se refiere a mi \"custom data\" "
   ]
  },
  {
   "cell_type": "code",
   "execution_count": 5,
   "id": "R1aYh_uVVTFi",
   "metadata": {
    "colab": {
     "base_uri": "https://localhost:8080/",
     "height": 1000
    },
    "id": "R1aYh_uVVTFi",
    "outputId": "9ab6ef6a-da5d-4ef0-82f4-96873d012de1"
   },
   "outputs": [
    {
     "name": "stdout",
     "output_type": "stream",
     "text": [
      "./DATOS_KAGGLE\\EMG-dataKaggle.csv\n",
      "<class 'pandas.core.frame.DataFrame'>\n",
      "RangeIndex: 4237907 entries, 0 to 4237906\n",
      "Data columns (total 11 columns):\n",
      " #   Column    Dtype  \n",
      "---  ------    -----  \n",
      " 0   time      int64  \n",
      " 1   channel1  float64\n",
      " 2   channel2  float64\n",
      " 3   channel3  float64\n",
      " 4   channel4  float64\n",
      " 5   channel5  float64\n",
      " 6   channel6  float64\n",
      " 7   channel7  float64\n",
      " 8   channel8  float64\n",
      " 9   class     int64  \n",
      " 10  label     int64  \n",
      "dtypes: float64(8), int64(3)\n",
      "memory usage: 355.7 MB\n",
      "None\n",
      "   time  channel1  channel2  channel3  channel4  channel5  channel6  channel7  \\\n",
      "0     1   0.00001  -0.00002  -0.00001  -0.00003   0.00000  -0.00001   0.00000   \n",
      "1     5   0.00001  -0.00002  -0.00001  -0.00003   0.00000  -0.00001   0.00000   \n",
      "2     6  -0.00001   0.00001   0.00002   0.00000   0.00001  -0.00002  -0.00001   \n",
      "3     7  -0.00001   0.00001   0.00002   0.00000   0.00001  -0.00002  -0.00001   \n",
      "4     8  -0.00001   0.00001   0.00002   0.00000   0.00001  -0.00002  -0.00001   \n",
      "\n",
      "   channel8  class  label  \n",
      "0  -0.00001      0      1  \n",
      "1  -0.00001      0      1  \n",
      "2   0.00001      0      1  \n",
      "3   0.00001      0      1  \n",
      "4   0.00001      0      1  \n",
      "\n",
      "class : [0 1 2 3 4 5 6 7] \n",
      "\n",
      "Labels : [ 1  2  3  4  5  6  7  8  9 10 11 12 13 14 15 16 17 18 19 20 21 22 23 24\n",
      " 25 26 27 28 29 30 31 32 33 34 35 36]\n",
      "\n",
      "Value Count :\n",
      " class\n",
      "0    2725157\n",
      "6     253009\n",
      "5     251733\n",
      "4     251570\n",
      "1     250055\n",
      "3     249494\n",
      "2     243193\n",
      "7      13696\n",
      "Name: count, dtype: int64\n",
      "\n",
      "CLASE:  0 - (1,) \n",
      "\n",
      "SAMPLE: 0 (7311, 10) ---> (1, 8000)\n",
      "SAMPLE: 1 (7140, 10) ---> (1, 8000)\n",
      "SAMPLE: 2 (6443, 10) ---> (1, 8000)\n",
      "SAMPLE: 3 (6471, 10) ---> (1, 8000)\n",
      "SAMPLE: 4 (6506, 10) ---> (1, 8000)\n",
      "SAMPLE: 5 (5814, 10) ---> (1, 8000)\n",
      "SAMPLE: 6 (7523, 10) ---> (1, 8000)\n",
      "SAMPLE: 7 (6468, 10) ---> (1, 8000)\n",
      "SAMPLE: 8 (7083, 10) ---> (1, 8000)\n",
      "SAMPLE: 9 (7690, 10) ---> (1, 8000)\n",
      "SAMPLE: 10 (7613, 10) ---> (1, 8000)\n",
      "SAMPLE: 11 (6901, 10) ---> (1, 8000)\n",
      "SAMPLE: 12 (10204, 10) ---> (1, 8000)\n",
      "SAMPLE: 13 (6670, 10) ---> (1, 8000)\n",
      "SAMPLE: 14 (6515, 10) ---> (1, 8000)\n",
      "SAMPLE: 15 (5742, 10) ---> (1, 8000)\n",
      "SAMPLE: 16 (6566, 10) ---> (1, 8000)\n",
      "SAMPLE: 17 (6996, 10) ---> (1, 8000)\n",
      "SAMPLE: 18 (6258, 10) ---> (1, 8000)\n",
      "SAMPLE: 19 (7938, 10) ---> (1, 8000)\n",
      "SAMPLE: 20 (6285, 10) ---> (1, 8000)\n",
      "SAMPLE: 21 (6133, 10) ---> (1, 8000)\n",
      "SAMPLE: 22 (7478, 10) ---> (1, 8000)\n",
      "SAMPLE: 23 (6850, 10) ---> (1, 8000)\n",
      "SAMPLE: 24 (6672, 10) ---> (1, 8000)\n",
      "SAMPLE: 25 (8719, 10) ---> (1, 8000)\n",
      "SAMPLE: 26 (7167, 10) ---> (1, 8000)\n",
      "SAMPLE: 27 (5232, 10) ---> (1, 8000)\n",
      "SAMPLE: 28 (6317, 10) ---> (1, 8000)\n",
      "SAMPLE: 29 (8047, 10) ---> (1, 8000)\n",
      "SAMPLE: 30 (6924, 10) ---> (1, 8000)\n",
      "SAMPLE: 31 (6650, 10) ---> (1, 8000)\n",
      "SAMPLE: 32 (7082, 10) ---> (1, 8000)\n",
      "SAMPLE: 33 (7553, 10) ---> (1, 8000)\n",
      "SAMPLE: 34 (6703, 10) ---> (1, 8000)\n",
      "SAMPLE: 35 (6391, 10) ---> (1, 8000)\n",
      "\n",
      "CLASE:  1 - (2,) \n",
      "\n",
      "SAMPLE: 0 (6806, 10) ---> (1, 8000)\n",
      "SAMPLE: 1 (6777, 10) ---> (1, 8000)\n",
      "SAMPLE: 2 (6301, 10) ---> (1, 8000)\n",
      "SAMPLE: 3 (6598, 10) ---> (1, 8000)\n",
      "SAMPLE: 4 (6806, 10) ---> (1, 8000)\n",
      "SAMPLE: 5 (6243, 10) ---> (1, 8000)\n",
      "SAMPLE: 6 (7651, 10) ---> (1, 8000)\n",
      "SAMPLE: 7 (6537, 10) ---> (1, 8000)\n",
      "SAMPLE: 8 (6019, 10) ---> (1, 8000)\n",
      "SAMPLE: 9 (6571, 10) ---> (1, 8000)\n",
      "SAMPLE: 10 (7273, 10) ---> (1, 8000)\n",
      "SAMPLE: 11 (6918, 10) ---> (1, 8000)\n",
      "SAMPLE: 12 (8653, 10) ---> (1, 8000)\n",
      "SAMPLE: 13 (6153, 10) ---> (1, 8000)\n",
      "SAMPLE: 14 (6418, 10) ---> (1, 8000)\n",
      "SAMPLE: 15 (6790, 10) ---> (1, 8000)\n",
      "SAMPLE: 16 (6720, 10) ---> (1, 8000)\n",
      "SAMPLE: 17 (6690, 10) ---> (1, 8000)\n",
      "SAMPLE: 18 (7260, 10) ---> (1, 8000)\n",
      "SAMPLE: 19 (7167, 10) ---> (1, 8000)\n",
      "SAMPLE: 20 (6837, 10) ---> (1, 8000)\n",
      "SAMPLE: 21 (6724, 10) ---> (1, 8000)\n",
      "SAMPLE: 22 (6908, 10) ---> (1, 8000)\n",
      "SAMPLE: 23 (7274, 10) ---> (1, 8000)\n",
      "SAMPLE: 24 (6817, 10) ---> (1, 8000)\n",
      "SAMPLE: 25 (6055, 10) ---> (1, 8000)\n",
      "SAMPLE: 26 (6686, 10) ---> (1, 8000)\n",
      "SAMPLE: 27 (5628, 10) ---> (1, 8000)\n",
      "SAMPLE: 28 (6460, 10) ---> (1, 8000)\n",
      "SAMPLE: 29 (7279, 10) ---> (1, 8000)\n",
      "SAMPLE: 30 (5975, 10) ---> (1, 8000)\n",
      "SAMPLE: 31 (8085, 10) ---> (1, 8000)\n",
      "SAMPLE: 32 (6316, 10) ---> (1, 8000)\n",
      "SAMPLE: 33 (7458, 10) ---> (1, 8000)\n",
      "SAMPLE: 34 (6247, 10) ---> (1, 8000)\n",
      "SAMPLE: 35 (6093, 10) ---> (1, 8000)\n",
      "\n",
      "CLASE:  2 - (3,) \n",
      "\n",
      "SAMPLE: 0 (7329, 10) ---> (1, 8000)\n",
      "SAMPLE: 1 (6815, 10) ---> (1, 8000)\n",
      "SAMPLE: 2 (6486, 10) ---> (1, 8000)\n",
      "SAMPLE: 3 (6875, 10) ---> (1, 8000)\n",
      "SAMPLE: 4 (6874, 10) ---> (1, 8000)\n",
      "SAMPLE: 5 (6663, 10) ---> (1, 8000)\n",
      "SAMPLE: 6 (8383, 10) ---> (1, 8000)\n",
      "SAMPLE: 7 (5939, 10) ---> (1, 8000)\n",
      "SAMPLE: 8 (5838, 10) ---> (1, 8000)\n",
      "SAMPLE: 9 (6534, 10) ---> (1, 8000)\n",
      "SAMPLE: 10 (7037, 10) ---> (1, 8000)\n",
      "SAMPLE: 11 (7350, 10) ---> (1, 8000)\n",
      "SAMPLE: 12 (10699, 10) ---> (1, 8000)\n",
      "SAMPLE: 13 (6177, 10) ---> (1, 8000)\n",
      "SAMPLE: 14 (6540, 10) ---> (1, 8000)\n",
      "SAMPLE: 15 (7287, 10) ---> (1, 8000)\n",
      "SAMPLE: 16 (6709, 10) ---> (1, 8000)\n",
      "SAMPLE: 17 (8614, 10) ---> (1, 8000)\n",
      "SAMPLE: 18 (6973, 10) ---> (1, 8000)\n",
      "SAMPLE: 19 (6937, 10) ---> (1, 8000)\n",
      "SAMPLE: 20 (6820, 10) ---> (1, 8000)\n",
      "SAMPLE: 21 (6170, 10) ---> (1, 8000)\n",
      "SAMPLE: 22 (7220, 10) ---> (1, 8000)\n",
      "SAMPLE: 23 (6744, 10) ---> (1, 8000)\n",
      "SAMPLE: 24 (6575, 10) ---> (1, 8000)\n",
      "SAMPLE: 25 (6420, 10) ---> (1, 8000)\n",
      "SAMPLE: 26 (6654, 10) ---> (1, 8000)\n",
      "SAMPLE: 27 (5488, 10) ---> (1, 8000)\n",
      "SAMPLE: 28 (7495, 10) ---> (1, 8000)\n",
      "SAMPLE: 29 (7480, 10) ---> (1, 8000)\n",
      "SAMPLE: 30 (6197, 10) ---> (1, 8000)\n",
      "SAMPLE: 31 (8271, 10) ---> (1, 8000)\n",
      "SAMPLE: 32 (6127, 10) ---> (1, 8000)\n",
      "SAMPLE: 33 (7274, 10) ---> (1, 8000)\n",
      "SAMPLE: 34 (6422, 10) ---> (1, 8000)\n",
      "SAMPLE: 35 (6078, 10) ---> (1, 8000)\n",
      "\n",
      "CLASE:  3 - (4,) \n",
      "\n",
      "SAMPLE: 0 (6824, 10) ---> (1, 8000)\n",
      "SAMPLE: 1 (6812, 10) ---> (1, 8000)\n",
      "SAMPLE: 2 (6421, 10) ---> (1, 8000)\n",
      "SAMPLE: 3 (7193, 10) ---> (1, 8000)\n",
      "SAMPLE: 4 (6724, 10) ---> (1, 8000)\n",
      "SAMPLE: 5 (6688, 10) ---> (1, 8000)\n",
      "SAMPLE: 6 (8923, 10) ---> (1, 8000)\n",
      "SAMPLE: 7 (6027, 10) ---> (1, 8000)\n",
      "SAMPLE: 8 (5776, 10) ---> (1, 8000)\n",
      "SAMPLE: 9 (6766, 10) ---> (1, 8000)\n",
      "SAMPLE: 10 (7138, 10) ---> (1, 8000)\n",
      "SAMPLE: 11 (7242, 10) ---> (1, 8000)\n",
      "SAMPLE: 12 (10961, 10) ---> (1, 8000)\n",
      "SAMPLE: 13 (6660, 10) ---> (1, 8000)\n",
      "SAMPLE: 14 (6687, 10) ---> (1, 8000)\n",
      "SAMPLE: 15 (7173, 10) ---> (1, 8000)\n",
      "SAMPLE: 16 (6809, 10) ---> (1, 8000)\n",
      "SAMPLE: 17 (7046, 10) ---> (1, 8000)\n",
      "SAMPLE: 18 (7638, 10) ---> (1, 8000)\n",
      "SAMPLE: 19 (6995, 10) ---> (1, 8000)\n",
      "SAMPLE: 20 (6163, 10) ---> (1, 8000)\n",
      "SAMPLE: 21 (6208, 10) ---> (1, 8000)\n",
      "SAMPLE: 22 (7896, 10) ---> (1, 8000)\n",
      "SAMPLE: 23 (7640, 10) ---> (1, 8000)\n",
      "SAMPLE: 24 (6365, 10) ---> (1, 8000)\n",
      "SAMPLE: 25 (6229, 10) ---> (1, 8000)\n",
      "SAMPLE: 26 (7309, 10) ---> (1, 8000)\n",
      "SAMPLE: 27 (5733, 10) ---> (1, 8000)\n",
      "SAMPLE: 28 (7059, 10) ---> (1, 8000)\n",
      "SAMPLE: 29 (7061, 10) ---> (1, 8000)\n",
      "SAMPLE: 30 (6180, 10) ---> (1, 8000)\n",
      "SAMPLE: 31 (8386, 10) ---> (1, 8000)\n",
      "SAMPLE: 32 (6527, 10) ---> (1, 8000)\n",
      "SAMPLE: 33 (7732, 10) ---> (1, 8000)\n",
      "SAMPLE: 34 (6653, 10) ---> (1, 8000)\n",
      "SAMPLE: 35 (5926, 10) ---> (1, 8000)\n",
      "\n",
      "CLASE:  4 - (5,) \n",
      "\n",
      "SAMPLE: 0 (7075, 10) ---> (1, 8000)\n",
      "SAMPLE: 1 (6856, 10) ---> (1, 8000)\n",
      "SAMPLE: 2 (6278, 10) ---> (1, 8000)\n",
      "SAMPLE: 3 (7423, 10) ---> (1, 8000)\n",
      "SAMPLE: 4 (6098, 10) ---> (1, 8000)\n",
      "SAMPLE: 5 (7094, 10) ---> (1, 8000)\n",
      "SAMPLE: 6 (8414, 10) ---> (1, 8000)\n",
      "SAMPLE: 7 (6237, 10) ---> (1, 8000)\n",
      "SAMPLE: 8 (6050, 10) ---> (1, 8000)\n",
      "SAMPLE: 9 (6658, 10) ---> (1, 8000)\n",
      "SAMPLE: 10 (7047, 10) ---> (1, 8000)\n",
      "SAMPLE: 11 (7563, 10) ---> (1, 8000)\n",
      "SAMPLE: 12 (10667, 10) ---> (1, 8000)\n",
      "SAMPLE: 13 (6928, 10) ---> (1, 8000)\n",
      "SAMPLE: 14 (6462, 10) ---> (1, 8000)\n",
      "SAMPLE: 15 (7290, 10) ---> (1, 8000)\n",
      "SAMPLE: 16 (6913, 10) ---> (1, 8000)\n",
      "SAMPLE: 17 (6765, 10) ---> (1, 8000)\n",
      "SAMPLE: 18 (7609, 10) ---> (1, 8000)\n",
      "SAMPLE: 19 (6683, 10) ---> (1, 8000)\n",
      "SAMPLE: 20 (6605, 10) ---> (1, 8000)\n",
      "SAMPLE: 21 (6785, 10) ---> (1, 8000)\n",
      "SAMPLE: 22 (7945, 10) ---> (1, 8000)\n",
      "SAMPLE: 23 (7909, 10) ---> (1, 8000)\n",
      "SAMPLE: 24 (6537, 10) ---> (1, 8000)\n",
      "SAMPLE: 25 (6024, 10) ---> (1, 8000)\n",
      "SAMPLE: 26 (7405, 10) ---> (1, 8000)\n",
      "SAMPLE: 27 (5245, 10) ---> (1, 8000)\n",
      "SAMPLE: 28 (7261, 10) ---> (1, 8000)\n",
      "SAMPLE: 29 (6700, 10) ---> (1, 8000)\n",
      "SAMPLE: 30 (6028, 10) ---> (1, 8000)\n",
      "SAMPLE: 31 (8604, 10) ---> (1, 8000)\n",
      "SAMPLE: 32 (6225, 10) ---> (1, 8000)\n",
      "SAMPLE: 33 (7710, 10) ---> (1, 8000)\n",
      "SAMPLE: 34 (6897, 10) ---> (1, 8000)\n",
      "SAMPLE: 35 (5743, 10) ---> (1, 8000)\n",
      "\n",
      "CLASE:  5 - (6,) \n",
      "\n",
      "SAMPLE: 0 (7143, 10) ---> (1, 8000)\n",
      "SAMPLE: 1 (7372, 10) ---> (1, 8000)\n",
      "SAMPLE: 2 (6086, 10) ---> (1, 8000)\n",
      "SAMPLE: 3 (7060, 10) ---> (1, 8000)\n",
      "SAMPLE: 4 (6183, 10) ---> (1, 8000)\n",
      "SAMPLE: 5 (5989, 10) ---> (1, 8000)\n",
      "SAMPLE: 6 (9105, 10) ---> (1, 8000)\n",
      "SAMPLE: 7 (6476, 10) ---> (1, 8000)\n",
      "SAMPLE: 8 (6474, 10) ---> (1, 8000)\n",
      "SAMPLE: 9 (6995, 10) ---> (1, 8000)\n",
      "SAMPLE: 10 (6661, 10) ---> (1, 8000)\n",
      "SAMPLE: 11 (7521, 10) ---> (1, 8000)\n",
      "SAMPLE: 12 (11522, 10) ---> (1, 8000)\n",
      "SAMPLE: 13 (6452, 10) ---> (1, 8000)\n",
      "SAMPLE: 14 (7296, 10) ---> (1, 8000)\n",
      "SAMPLE: 15 (7971, 10) ---> (1, 8000)\n",
      "SAMPLE: 16 (7007, 10) ---> (1, 8000)\n",
      "SAMPLE: 17 (7667, 10) ---> (1, 8000)\n",
      "SAMPLE: 18 (7348, 10) ---> (1, 8000)\n",
      "SAMPLE: 19 (7436, 10) ---> (1, 8000)\n",
      "SAMPLE: 20 (6270, 10) ---> (1, 8000)\n",
      "SAMPLE: 21 (6415, 10) ---> (1, 8000)\n",
      "SAMPLE: 22 (6864, 10) ---> (1, 8000)\n",
      "SAMPLE: 23 (7371, 10) ---> (1, 8000)\n",
      "SAMPLE: 24 (6391, 10) ---> (1, 8000)\n",
      "SAMPLE: 25 (6217, 10) ---> (1, 8000)\n",
      "SAMPLE: 26 (6918, 10) ---> (1, 8000)\n",
      "SAMPLE: 27 (5918, 10) ---> (1, 8000)\n",
      "SAMPLE: 28 (7302, 10) ---> (1, 8000)\n",
      "SAMPLE: 29 (7223, 10) ---> (1, 8000)\n",
      "SAMPLE: 30 (6077, 10) ---> (1, 8000)\n",
      "SAMPLE: 31 (7786, 10) ---> (1, 8000)\n",
      "SAMPLE: 32 (6530, 10) ---> (1, 8000)\n",
      "SAMPLE: 33 (7782, 10) ---> (1, 8000)\n",
      "SAMPLE: 34 (6196, 10) ---> (1, 8000)\n",
      "SAMPLE: 35 (5985, 10) ---> (1, 8000)\n"
     ]
    }
   ],
   "source": [
    "if(SOURCE == 'KAGGLE'):\n",
    "        Fs = 1000\n",
    "        filename = \"EMG-dataKaggle.csv\"\n",
    "        path_file = os.path.join(PATH_DATA, filename)\n",
    "        print(path_file)\n",
    "        df = pd.read_csv(path_file)\n",
    "        print(df.info())\n",
    "        print(df.head())\n",
    "\n",
    "        print(\"\\nclass :\", df[\"class\"].unique(),\"\\n\")\n",
    "        print(\"Labels :\",df[\"label\"].unique()) # 36 people hand gesture data\n",
    "        print(\"\\nValue Count :\\n\",df[\"class\"].value_counts())\n",
    "\n",
    "        df.drop('time', inplace=True, axis=1)\n",
    "        df = df[df['class'] != 0] #se quita, ruido vacio, diferentes del resto, afecta a la clasificacion\n",
    "        df = df[df['class'] != 7] #tiene pocas muestras así que mejor quitarla\n",
    "\n",
    "        data_clases = df.groupby(['class']) #agrupas\n",
    "\n",
    "        data_list = []\n",
    "        for n in range(CLASES):\n",
    "            data_list.append([])\n",
    "\n",
    "        # Iterar sobre los grupos\n",
    "        for ix, (nombre_classe, classe) in enumerate(data_clases):\n",
    "            print('\\nCLASE: ',ix, '-', nombre_classe, '\\n')\n",
    "            data_labels = classe.groupby(['label'])\n",
    "\n",
    "            for iy, (nombre_label, label) in enumerate(data_labels):\n",
    "                sample = label.values\n",
    "                sample_length = len(sample)\n",
    "                sample_shape = sample.shape\n",
    "                if(len(sample) > SAMPLE_MAXDATA):\n",
    "                    sample = sample[:SAMPLE_MAXDATA,:CHANNELS]#segunda columna: canales\n",
    "\n",
    "                if(len(sample) < SAMPLE_MAXDATA):\n",
    "                    repeat = np.tile(sample,(SAMPLE_MAXDATA//len(sample) + 1, 1))\n",
    "                    sample = repeat[:SAMPLE_MAXDATA,:CHANNELS]\n",
    "                        \n",
    "                sample = np.transpose(sample, axes=(1,0)) #muevo canales a la primera columna\n",
    "                print('SAMPLE:', iy,sample_shape,'--->', sample.shape)\n",
    "                data_list[ix].append(sample)\n",
    "                \n",
    "            filename_category = ''.join(['EMG_Gesture_',str(ix),'.npy'])\n",
    "            path_category = os.path.join(PATH_DATA, filename_category)\n",
    "            np.save(path_category, np.stack(data_list[ix]))\n",
    "\n",
    "       "
   ]
  },
  {
   "cell_type": "markdown",
   "id": "e381152b",
   "metadata": {
    "id": "e381152b"
   },
   "source": [
    "ARCHIVOS DE MI PROPIO SISTEMA"
   ]
  },
  {
   "cell_type": "code",
   "execution_count": 6,
   "id": "2c5f060e",
   "metadata": {
    "id": "2c5f060e"
   },
   "outputs": [],
   "source": [
    "if(SOURCE == 'IRENE'):\n",
    "        index_pos = 10 #posicion dentro del prefijo que indica la categoria donde estoy\n",
    "        prefix = 'datos_emg_'\n",
    "\n",
    "        data_list = []\n",
    "\n",
    "        file_iter = os.listdir(PATH_DATA)\n",
    "        file_path = [ file for file in file_iter if file.startswith(prefix)  ]\n",
    "        for n in range(CLASES):\n",
    "            data_list.append([])\n",
    "\n",
    "\n",
    "        for file in file_path:\n",
    "            clase = int(file[index_pos])\n",
    "            path_file = os.path.join(PATH_DATA, file)\n",
    "            print(path_file)\n",
    "            sample = np.genfromtxt(path_file, delimiter = \",\")\n",
    "            sample = np.expand_dims(sample, axis=1)\n",
    "            \n",
    "            if(len(sample) > SAMPLE_MAXDATA):\n",
    "                    sample = sample[:SAMPLE_MAXDATA,:]#segunda columna: canales\n",
    "\n",
    "            if(len(sample) < SAMPLE_MAXDATA):\n",
    "                repeat = np.tile(sample,(SAMPLE_MAXDATA//len(sample) + 1, 1))\n",
    "                sample = repeat[:SAMPLE_MAXDATA]\n",
    "                    \n",
    "            sample = np.transpose(sample, (1,0))\n",
    "            data_list[clase].append(sample)\n"
   ]
  },
  {
   "cell_type": "code",
   "execution_count": 7,
   "id": "435bbc07-8c43-4589-a165-573a29de940c",
   "metadata": {},
   "outputs": [
    {
     "name": "stdout",
     "output_type": "stream",
     "text": [
      "CLASS: 0 --> ./DATOS_KAGGLE\\emg_gesture_0.npy \n",
      "\tLENGTH:\t (36, 1, 8000)\n",
      "CLASS: 1 --> ./DATOS_KAGGLE\\emg_gesture_1.npy \n",
      "\tLENGTH:\t (36, 1, 8000)\n",
      "CLASS: 2 --> ./DATOS_KAGGLE\\emg_gesture_2.npy \n",
      "\tLENGTH:\t (36, 1, 8000)\n",
      "CLASS: 3 --> ./DATOS_KAGGLE\\emg_gesture_3.npy \n",
      "\tLENGTH:\t (36, 1, 8000)\n",
      "CLASS: 4 --> ./DATOS_KAGGLE\\emg_gesture_4.npy \n",
      "\tLENGTH:\t (36, 1, 8000)\n",
      "CLASS: 5 --> ./DATOS_KAGGLE\\emg_gesture_5.npy \n",
      "\tLENGTH:\t (36, 1, 8000)\n",
      "\n",
      "SAMPLE 0 - CLASSS 0\n"
     ]
    },
    {
     "data": {
      "image/png": "[encoded data removed]",
      "text/plain": [
       "<Figure size 640x480 with 1 Axes>"
      ]
     },
     "metadata": {},
     "output_type": "display_data"
    }
   ],
   "source": [
    "# TESTEA LOS ARCHIVOS DE LA BASE DE DATOS\n",
    "#Guarda  y carga archivos para cada clase\n",
    "for idx in range(CLASES):\n",
    "    file = ''.join(['emg_gesture_',str(idx),'.npy'])\n",
    "    path_file = os.path.join(PATH_DATA, file)\n",
    "    sample = np.stack(data_list[idx])\n",
    "    np.save(path_file, sample)\n",
    "    sample = np.load(path_file)\n",
    "    print('CLASS:',idx,'-->',path_file,'\\n\\tLENGTH:\\t', sample.shape)\n",
    "\n",
    "\n",
    "\n",
    "# Visualizar el contenido de la muestra 0 de la categoria 0\n",
    "\n",
    "print('\\nSAMPLE 0 - CLASSS 0')\n",
    "for channel in range(CHANNELS):\n",
    "    plt.plot(sample[0,channel])  # cmap es el mapa de colores que quieres usar\n",
    "plt.title('SAMPLE 0 - CLASSS 0')\n",
    "plt.show()\n",
    "\n",
    "\n",
    "if CHANNELS > 1:\n",
    "    fig, axs = plt.subplots(3, 3, figsize=(12, 12))\n",
    "    axs[2, 2].axis('off')\n",
    "\n",
    "    for channel in range(CHANNELS):\n",
    "        fila = channel // 3\n",
    "        columna = channel % 3\n",
    "        ax = axs[fila, columna]\n",
    "        ax.plot(sample[0,channel])\n",
    "        ax.set_title(f'Channel {channel+1}')\n",
    "    \n",
    "    plt.suptitle('SAMPLE 0 - CLASSS 0')\n",
    "    \n",
    "    # Ajustar automáticamente el diseño para evitar superposiciones\n",
    "    plt.tight_layout()\n",
    "    \n",
    "    # Mostrar los gráficos\n",
    "    plt.show()\n",
    "\n"
   ]
  },
  {
   "cell_type": "markdown",
   "id": "af7c2ccb",
   "metadata": {},
   "source": [
    "Se leen los archivos de datos binarios con extension \"npy\" y se forma la siguiente estructura de datos de 4 dimensiones, el cual se utiliza en el resto del script: \n",
    "\n",
    "EMG_DataFiles : CLASE x SAMPLE x CHANNEL x DATA\n"
   ]
  },
  {
   "cell_type": "code",
   "execution_count": 8,
   "id": "YRG6EuKlFdYC",
   "metadata": {
    "colab": {
     "base_uri": "https://localhost:8080/"
    },
    "id": "YRG6EuKlFdYC",
    "outputId": "52685f4e-c662-4448-e745-5b4e0c2f00ff"
   },
   "outputs": [
    {
     "name": "stdout",
     "output_type": "stream",
     "text": [
      "\n",
      "Datos obtenidos de la categoria numero 0 : 36\n",
      "Tamaño de las muestras (1, 8000)\n",
      "Valor max 0.00016 min -0.00023\n",
      "\n",
      "Datos obtenidos de la categoria numero 1 : 36\n",
      "Tamaño de las muestras (1, 8000)\n",
      "Valor max 0.00127 min -0.00128\n",
      "\n",
      "Datos obtenidos de la categoria numero 2 : 36\n",
      "Tamaño de las muestras (1, 8000)\n",
      "Valor max 0.00127 min -0.00128\n",
      "\n",
      "Datos obtenidos de la categoria numero 3 : 36\n",
      "Tamaño de las muestras (1, 8000)\n",
      "Valor max 0.00074 min -0.00079\n",
      "\n",
      "Datos obtenidos de la categoria numero 4 : 36\n",
      "Tamaño de las muestras (1, 8000)\n",
      "Valor max 0.00127 min -0.00128\n",
      "\n",
      "Datos obtenidos de la categoria numero 5 : 36\n",
      "Tamaño de las muestras (1, 8000)\n",
      "Valor max 0.00127 min -0.00128\n"
     ]
    }
   ],
   "source": [
    "#Datos EMG se almacenan en una lista para cada clase\n",
    "EMG_DataFiles = []\n",
    "\n",
    "for clase in range(CLASES):\n",
    "    file = \"\".join([\"EMG_Gesture_\", str(clase), \".npy\"])\n",
    "    pathfile = os.path.join(PATH_DATA, file)\n",
    "    EMG_DataFiles.append(np.load(pathfile))\n",
    "\n",
    "    print(\"\\nDatos obtenidos de la categoria numero\", clase, \":\", len(EMG_DataFiles[clase]))\n",
    "    print(\"Tamaño de las muestras\", EMG_DataFiles[clase][0].shape)\n",
    "    print(\"Valor max\", np.max(EMG_DataFiles[clase]), \"min\", np.min(EMG_DataFiles[clase]) )\n"
   ]
  },
  {
   "cell_type": "code",
   "execution_count": 9,
   "id": "91a7548d-35bf-4fb3-9138-f7e56b3256ab",
   "metadata": {},
   "outputs": [
    {
     "name": "stdout",
     "output_type": "stream",
     "text": [
      "CLASE 0 SAMPLE 0\n"
     ]
    },
    {
     "data": {
      "image/png": "[encoded data removed]",
      "text/plain": [
       "<Figure size 640x480 with 1 Axes>"
      ]
     },
     "metadata": {},
     "output_type": "display_data"
    },
    {
     "name": "stdout",
     "output_type": "stream",
     "text": [
      "CLASE 1 SAMPLE 0\n"
     ]
    },
    {
     "data": {
      "image/png": "[encoded data removed]",
      "text/plain": [
       "<Figure size 640x480 with 1 Axes>"
      ]
     },
     "metadata": {},
     "output_type": "display_data"
    },
    {
     "name": "stdout",
     "output_type": "stream",
     "text": [
      "CLASE 2 SAMPLE 0\n"
     ]
    },
    {
     "data": {
      "image/png": "[encoded data removed]",
      "text/plain": [
       "<Figure size 640x480 with 1 Axes>"
      ]
     },
     "metadata": {},
     "output_type": "display_data"
    },
    {
     "name": "stdout",
     "output_type": "stream",
     "text": [
      "CLASE 3 SAMPLE 0\n"
     ]
    },
    {
     "data": {
      "image/png": "[encoded data removed]",
      "text/plain": [
       "<Figure size 640x480 with 1 Axes>"
      ]
     },
     "metadata": {},
     "output_type": "display_data"
    },
    {
     "name": "stdout",
     "output_type": "stream",
     "text": [
      "CLASE 4 SAMPLE 0\n"
     ]
    },
    {
     "data": {
      "image/png": "[encoded data removed]",
      "text/plain": [
       "<Figure size 640x480 with 1 Axes>"
      ]
     },
     "metadata": {},
     "output_type": "display_data"
    },
    {
     "name": "stdout",
     "output_type": "stream",
     "text": [
      "CLASE 5 SAMPLE 0\n"
     ]
    },
    {
     "data": {
      "image/png": "[encoded data removed]",
      "text/plain": [
       "<Figure size 640x480 with 1 Axes>"
      ]
     },
     "metadata": {},
     "output_type": "display_data"
    }
   ],
   "source": [
    "#Se itera sobre cada clase y una sample especifica. En este caso, se hace el plot del canal 1 \n",
    "for clase in range(CLASES):\n",
    "        sample = 0\n",
    "    #for sample in range(len(EMG_DataFiles[clase])):\n",
    "        print('CLASE', clase, 'SAMPLE', sample)\n",
    "        plt.plot(EMG_DataFiles[clase][sample][0])\n",
    "        plt.show()\n",
    "\n"
   ]
  },
  {
   "cell_type": "code",
   "execution_count": 10,
   "id": "cc94a9de-dc7d-4b02-9c7b-4c51ae6a8a4e",
   "metadata": {},
   "outputs": [],
   "source": [
    "#Filtro pasabanda para cada clase y rectificacion\n",
    "#Se selecciona si se utiliza\n",
    "\n",
    "FILTER = False\n",
    "\n",
    "if FILTER:\n",
    "    for clase in range(CLASES):\n",
    "        for sample in range(len(EMG_DataFiles[clase])):\n",
    "             for channel in range(len(EMG_DataFiles[clase][sample])):\n",
    "                 b, a = scipy.signal.butter(4, [20, 450], btype='bandpass', fs=SAMPLE_FREQUENCY)\n",
    "                 filtered_emg = scipy.signal.filtfilt(b, a, EMG_DataFiles[clase][sample][channel])\n",
    "        \n",
    "                 # Rectification\n",
    "                 rectified_emg = np.abs(filtered_emg)\n",
    "                 EMG_DataFiles[clase][sample][channel] = rectified_emg\n",
    "\n",
    "        print(\"\\nCLASE\", clase, \"\\n\\tNúmero de Archivos:\", len(EMG_DataFiles[clase]))\n",
    "        print(\"\\tEstructura de los datos:\\t\", EMG_DataFiles[clase][0].shape)\n",
    "        print(\"\\t Máximo:\\t\", np.max(EMG_DataFiles[clase]), \"\\tMinimo:\\t\", np.min(EMG_DataFiles[clase])) \n",
    "        print(\"\\t Media: \\t\", np.mean(EMG_DataFiles[clase]), \"\\tStd.:  \\t\", np.std(EMG_DataFiles[clase])) \n",
    "        print(\"\\t Zeros: \\t\", np.sum(np.isnan(EMG_DataFiles[clase])), \"\\tInfinite:\\t\", np.sum(np.isinf(EMG_DataFiles[clase]))) "
   ]
  },
  {
   "cell_type": "markdown",
   "id": "brgf2JXSXh0o",
   "metadata": {
    "id": "brgf2JXSXh0o"
   },
   "source": [
    "**2. Construimos las listas Globales** \n",
    "\n",
    "---\n",
    "Es el conjunto de Todas las muestras y debe incluir:\n",
    "\n",
    "\n",
    "- Una única lista para el conjunto de todos las muestras de todas las categorias juntas\n",
    "- Un Array para el target con el valor de la categoría en la misma posición que ocupa cada muestra en la primera matriz\n"
   ]
  },
  {
   "cell_type": "markdown",
   "id": "03061c77",
   "metadata": {},
   "source": [
    "**SLIDE WINDOW:** Se segmentan los datos EMG en samples de tamaño \"Sample_Size\" con un desplazamiento \"Stride\". Estas muestras se almacenan en la lista \"X\" y la clase de cada muestra en la lista \"Y\". "
   ]
  },
  {
   "cell_type": "code",
   "execution_count": 11,
   "id": "FbyqCsNXPAPR",
   "metadata": {
    "colab": {
     "base_uri": "https://localhost:8080/",
     "height": 499
    },
    "id": "FbyqCsNXPAPR",
    "outputId": "96fc5b88-09a2-40fe-91e2-b408be23d164",
    "scrolled": true
   },
   "outputs": [
    {
     "name": "stdout",
     "output_type": "stream",
     "text": [
      "Tamaño de las listas GLOBALES de muestras:\tDATOS:\t 56592 \tTARGET (Y):\t 56592\n",
      "\tTamaño de cada muestra de DATOS:\t (1, 150)\n",
      "\tTARGET(clase/gesto) de la muestra 0     :\t 0 \n",
      "\t (NOTA: Los escalares, los números individuales, tienen tamaño 0, es decir shape = () )\n"
     ]
    },
    {
     "data": {
      "image/png": "[encoded data removed]",
      "text/plain": [
       "<Figure size 640x480 with 1 Axes>"
      ]
     },
     "metadata": {},
     "output_type": "display_data"
    }
   ],
   "source": [
    "X = []\n",
    "Y = []\n",
    "SAMPLE_CHANNELS = EMG_DataFiles[0][0].shape[0]\n",
    "SAMPLE_DATA     = EMG_DataFiles[0][0].shape[1]\n",
    "SAMPLE_SIZE     = 150   #tamaño muestras finales\n",
    "STRIDE          = 30    #desplazamiento dentro del archivo de datos\n",
    "\n",
    "for clase in range(CLASES):\n",
    "    for sample in EMG_DataFiles[clase]:\n",
    "        for iz in range(0, SAMPLE_DATA - SAMPLE_SIZE + 1, STRIDE):\n",
    "            X.append(sample[:,iz:iz+SAMPLE_SIZE])\n",
    "            Y.append(clase)\n",
    "\n",
    "#target me indica el indice\n",
    "print('Tamaño de las listas GLOBALES de muestras:\\tDATOS:\\t', len(X) ,'\\tTARGET (Y):\\t',len(Y))\n",
    "print('\\tTamaño de cada muestra de DATOS:\\t', X[0].shape)\n",
    "print('\\tTARGET(clase/gesto) de la muestra 0     :\\t', Y[0], '\\n\\t (NOTA: Los escalares, los números individuales, tienen tamaño 0, es decir shape = () )')\n",
    "plt.hist(Y, bins = CLASES, rwidth = 0.8)\n",
    "plt.show()\n"
   ]
  },
  {
   "cell_type": "code",
   "execution_count": 12,
   "id": "0ae0cc81-ec8b-467a-b669-7c7ab6bbd1a0",
   "metadata": {},
   "outputs": [
    {
     "name": "stdout",
     "output_type": "stream",
     "text": [
      "Class Weights: tensor([6., 6., 6., 6., 6., 6.], device='cuda:0')\n"
     ]
    }
   ],
   "source": [
    "# PESOS DE PONDERACION DE LAS CLASES\n",
    "#Se hace para balancear el numero de muestras en el entrenamiento del modelo\n",
    "if SOURCE == 'KAGGLE':\n",
    "    class_counts = [1,1,1,1,1,1] #proporcion de archivos entre categorias 36*6/36    \n",
    "else:\n",
    "    class_counts = [8, 6, 5,6] #archivos para cada categoria: 25/8\n",
    "total_samples = sum(class_counts)\n",
    "class_weights = [total_samples/class_count for class_count in class_counts]\n",
    "class_weights = torch.tensor(class_weights, dtype=torch.float).to(device)\n",
    "print('Class Weights:', class_weights)"
   ]
  },
  {
   "cell_type": "markdown",
   "id": "t93EH3cRZzeB",
   "metadata": {
    "id": "t93EH3cRZzeB"
   },
   "source": [
    "**3. Transformación y preparación de los datos**\n",
    "\n",
    "---\n",
    "Normalizamos los datos para que todos los valores estén en un rango determinando y controlado, para ello hay varias opciones:\n",
    "\n",
    "\n",
    "*   Valores en el rango [0,1]. Si queremos que todos los valores se encuentren en este rango aplicamos la transformación\n",
    "\n",
    "        X =  ( X - X_min)/ (X_max - X_min)\n",
    "\n",
    "*   Media = 0 y Desviación Estándar = 1. Este tipo de normalización es la más habitual en machine learning, ya que los datos de entradas estarán todos en torno al valor (positivos y negativos) y se distribuyen con una desviación estándar igual a 1...es decir, la mayoría de los datos estárán entre -1 y 1, aunque unos pocos tomarán valores más extremos. En general, resulta mas eficiente en el entrenamiento de la máquina:\n",
    "\n",
    "        X =  (X - X_mean)/X_std\n",
    "\n",
    "Está transformación hay que aplicarla por igual a todos los datos que se vayan a usar tanto en la fase de entrenamiento como en la de testeo como cuando se utilice finalmente para realizar predicciones sobre datos de categorias desconocidas\n",
    "\n",
    "*En este caso, utilizo esta segunda opción de media = 0 y std = 1.  *\n"
   ]
  },
  {
   "cell_type": "code",
   "execution_count": 13,
   "id": "1sn5WOCtZ0sW",
   "metadata": {
    "colab": {
     "base_uri": "https://localhost:8080/"
    },
    "id": "1sn5WOCtZ0sW",
    "outputId": "daf137a6-ce1f-4543-b52e-f65e779a2634"
   },
   "outputs": [
    {
     "name": "stdout",
     "output_type": "stream",
     "text": [
      "Valores estadísticos ANTES de la normalización:\n",
      "\t Min =  -0.00128 \t Max =  0.00127 \t Mean =  -8.110495005183304e-06 \t STD =  0.00019071553099195857\n",
      "\n",
      "Valores estadísticos DESPUES de la normalización:\n",
      "\t Min =  -6.669040000986839 \t Max =  6.70165921127354 \t Mean =  1.3460368643104056e-17 \t STD =  0.9999999999999989\n",
      "\n",
      "NOTA: Cuando se utilizan los valores no cambian porque ya estaban normalizados de origen... \n",
      " Inicialmente ya tinene una media que es practicametne cero y una desviacion estandar de 1\n"
     ]
    }
   ],
   "source": [
    "X_min = np.min(X)\n",
    "X_max = np.max(X)\n",
    "X_mean = np.mean(X)\n",
    "X_std = np.std(X)\n",
    "print('Valores estadísticos ANTES de la normalización:')\n",
    "print('\\t Min = ',X_min,'\\t Max = ',X_max,'\\t Mean = ',X_mean,'\\t STD = ',X_std)\n",
    "\n",
    "X = (X-X_mean)/X_std\n",
    "\n",
    "print('\\nValores estadísticos DESPUES de la normalización:')\n",
    "print('\\t Min = ',np.min(X),'\\t Max = ',np.max(X),'\\t Mean = ',np.mean(X),'\\t STD = ',np.std(X))\n",
    "print('\\nNOTA: Cuando se utilizan los valores no cambian porque ya estaban normalizados de origen... \\n',\n",
    "'Inicialmente ya tinene una media que es practicametne cero y una desviacion estandar de 1')\n"
   ]
  },
  {
   "cell_type": "markdown",
   "id": "s1QWXF9SU1ZL",
   "metadata": {
    "id": "s1QWXF9SU1ZL"
   },
   "source": [
    "**4. Creamos los conjuntos de entrenamiento y testeo**\n",
    "\n",
    "---\n",
    "\n",
    "\n",
    "Se puede hacer de varias maneras pero la más cómoda es utilizar la función *split* indicando la fracción que queremos reservar para realizar el testeo final.\n",
    "\n",
    "Se reserva de forma aleatoria un espacio para entrenar y otro para hacer el test, con el fin de entrenar la máquina con datos que no he entrenado."
   ]
  },
  {
   "cell_type": "code",
   "execution_count": 14,
   "id": "ARIwmntlPAR5",
   "metadata": {
    "colab": {
     "base_uri": "https://localhost:8080/"
    },
    "id": "ARIwmntlPAR5",
    "outputId": "bb54cc0e-f185-4bfd-c7da-f73b888250ff"
   },
   "outputs": [
    {
     "name": "stdout",
     "output_type": "stream",
     "text": [
      "Tamaño de las Listas:\n",
      "\tDatos de Entrenamiento:\t 48103 muestras de tamaño (1, 150)\n",
      "\tDatos de Entrenamiento:\t 8489 muestras de tamaño (1, 150)\n"
     ]
    }
   ],
   "source": [
    "test_size = 0.15    # RESERVAMOS el 15 % para el testeo final\n",
    "                    # Estos datos no se usarán nunca durante el entrenamiento de la máquina\n",
    "X_train, X_test, Y_train, Y_test = train_test_split(X, Y, test_size=test_size, random_state=42)\n",
    "\n",
    "print('Tamaño de las Listas:')\n",
    "print('\\tDatos de Entrenamiento:\\t', len(X_train), 'muestras de tamaño', X_train[0].shape)\n",
    "print('\\tDatos de Entrenamiento:\\t', len(X_test), 'muestras de tamaño', X_test[0].shape)\n"
   ]
  },
  {
   "cell_type": "markdown",
   "id": "7pRNfJ75c7qX",
   "metadata": {
    "id": "7pRNfJ75c7qX"
   },
   "source": [
    "**5. Construimos el Dataset**\n",
    "\n",
    "---\n",
    "\n",
    "\n",
    "\n",
    "*   **Dataset**. Es una clase específica para organizar y manejar los datos junto con sus targets sin que corramos el riesgo de que se desordenen\n",
    "Basicamente su función es almacenar las dos listas X e Y de cada conjunto (entrenamiento y test) y cuando le pidan una muestra determinada (con el metodo gettitem) devolver una muestra y un target concreto para el índice que le pidan\n",
    "\n"
   ]
  },
  {
   "cell_type": "code",
   "execution_count": 15,
   "id": "WtmF1Bjqc74e",
   "metadata": {
    "colab": {
     "base_uri": "https://localhost:8080/"
    },
    "id": "WtmF1Bjqc74e",
    "outputId": "5b8a378e-c0c5-422d-e88d-775e7b32b953"
   },
   "outputs": [
    {
     "name": "stdout",
     "output_type": "stream",
     "text": [
      "Tamaño de los Datasets:\n",
      "\tDataset de Entrenamiento:\t 48103\n",
      "\tDataset de Test         :\t 8489\n",
      "\n",
      "Testeo de los Datasets:\n",
      "\tPedimos un dato y vemos la forma del dato y el valor del target:\n",
      "\tTamaño del Dato de Entrenamiento :\t [1, 150] \ttarget =  4\n",
      "\tTamaño del Dato de Test          :\t [1, 150] \ttarget =  4\n"
     ]
    }
   ],
   "source": [
    "#self: indica la propia clase, __init__:es el constructor\n",
    "#cuando heredo de dataset es obligatorio tener __len__ y __getitem__ . Las dos barras sifingica que no te las inventas, vienen ya definididas\n",
    "class EMGDataset(Dataset):\n",
    "    def __init__(self, X, Y):\n",
    "        self.X = X\n",
    "        self.Y = Y\n",
    "\n",
    "    def __len__(self): #devuelve la longitud, numero de datos del dataset\n",
    "        return len(self.X)\n",
    "\n",
    "    def __getitem__(self, idx): #devuelve el item numero que sea\n",
    "\n",
    "        x = self.X[idx]\n",
    "        y = self.Y[idx]\n",
    "        return x, y\n",
    "\n",
    "train_dataset = EMGDataset(X_train, Y_train)\n",
    "test_dataset = EMGDataset(X_test, Y_test)\n",
    "print('Tamaño de los Datasets:')\n",
    "print('\\tDataset de Entrenamiento:\\t', len(train_dataset))\n",
    "print('\\tDataset de Test         :\\t', len(test_dataset))\n",
    "\n",
    "print('\\nTesteo de los Datasets:')\n",
    "print('\\tPedimos un dato y vemos la forma del dato y el valor del target:')\n",
    "\n",
    "dato_train,  target_train = next(iter(train_dataset))\n",
    "dato_test,  target_test = next(iter(test_dataset))\n",
    "\n",
    "print('\\tTamaño del Dato de Entrenamiento :\\t', list(dato_train.shape), '\\ttarget = ', target_train)\n",
    "print('\\tTamaño del Dato de Test          :\\t', list(dato_test.shape), '\\ttarget = ', target_test)\n",
    "\n",
    "#dato = train_dataset.__getitem__(7)\n",
    "#print(dato)\n"
   ]
  },
  {
   "cell_type": "markdown",
   "id": "1cD9WjoiYYBo",
   "metadata": {
    "id": "1cD9WjoiYYBo"
   },
   "source": [
    "## B. PARÁMETROS E HIPERPARÁMETROS"
   ]
  },
  {
   "cell_type": "markdown",
   "id": "rKvWkYflZcey",
   "metadata": {
    "id": "rKvWkYflZcey"
   },
   "source": [
    "**2. Parámetros y funciones del Entrenamiento**\n",
    "\n",
    "---\n",
    "\n",
    "\n",
    "\n",
    "*   EPOCHS. Relacionado con el numero de veces que se va a repetir el entrenamiento.\n",
    "*   BATCH_SIZE. Muestras cada vez que se procesan los pesos \n",
    "*   LEARNING_RATE. Cómo se estimaa\n",
    "*   CRITERION. Error cometido entre el label y el target.\n",
    "*   DATALOADER. Este objeto se encarga de utilizar el dataset e ir sirviendo los datos a la máquina a partir de este. Cada vez que se le piden datos devuelve un número de muestras dado por el parámetro BATCH_SIZE. Es el que realiza la función de aleatorizar los datos, ya que es importante en que cada conjunto esté formado por muestras aleatorias de todas las categorias\n",
    "*   NETWORK. Modelo de red utilizado \n",
    "   \n",
    "\n",
    "\n",
    "\n",
    "\n",
    "\n"
   ]
  },
  {
   "cell_type": "code",
   "execution_count": 16,
   "id": "t4VHG4RqYXsM",
   "metadata": {
    "colab": {
     "base_uri": "https://localhost:8080/"
    },
    "id": "t4VHG4RqYXsM",
    "outputId": "018640d3-04d5-4454-d18a-b6f74ca85d9e"
   },
   "outputs": [
    {
     "name": "stdout",
     "output_type": "stream",
     "text": [
      "\n",
      "Testeo de los Dataloader:\n",
      "\tPedimos un BATCH de datos y vemos la forma de los datos y los valores del target:\n",
      "\tEsperamos que el batch tenga tamaño = BATCH_SIZE x INPUT_CHANNELS\n",
      "\n",
      "\tTamaño del BATCH de datos de Entrenamiento :\t [16, 1, 150]\n",
      "\ttarget de las muestras =  tensor([1, 2, 4, 5, 2, 1, 4, 1, 0, 4, 5, 4, 3, 4, 1, 2])\n",
      "\n",
      "\tTamaño del BATCH de datos de Test: \t [16, 1, 150]\n",
      "\ttarget de las muestras =  tensor([2, 0, 1, 5, 3, 5, 0, 5, 0, 4, 4, 1, 1, 5, 0, 5])\n"
     ]
    }
   ],
   "source": [
    "EPOCHS = 100            # Número de veces que se va a repetir el proceso de entrenamiento\n",
    "BATCH_SIZE  = 16           # Número de muestras procesadas cada vez que se actualizan los pesos\n",
    "#al dataset de entrenamiento le paso 8 y cada 8 pasos hay ajuste de pesos. lo repito el numero de epocas que me dice\n",
    "\n",
    "LEARNING_RATE  = 0.15 # Parámetro de aprendizaje aplicado en cada batch. los modifico poco a poco, el aprendizaje es lento\n",
    "DROPOUT        = 0.0     # 0.0 Indica que no lo usas\n",
    "CRITERION = nn.CrossEntropyLoss(weight=class_weights)  # MSELoss, CrossEntropyLoss\n",
    "NETWORK = 'PRETRAINED'   #modelo de red utilizado\n",
    " # Función de Pérdidas.. Calcula el error cometido entre\n",
    "                            # las predicciones de la máquina (LABEL) y las\n",
    "                            # categorias realies (TARGET)\n",
    "#DataLoader: me pide los datos de batch_size en bat_size\n",
    "train_loader =  DataLoader(train_dataset, batch_size = BATCH_SIZE, shuffle = True)\n",
    "test_loader =   DataLoader(test_dataset, batch_size = BATCH_SIZE, shuffle = True)\n",
    "\n",
    "print('\\nTesteo de los Dataloader:')\n",
    "print('\\tPedimos un BATCH de datos y vemos la forma de los datos y los valores del target:')\n",
    "print('\\tEsperamos que el batch tenga tamaño = BATCH_SIZE x INPUT_CHANNELS')\n",
    "\n",
    "dato_train,  target_train = next(iter(train_loader))\n",
    "dato_test,  target_test = next(iter(test_loader))\n",
    "\n",
    "print('\\n\\tTamaño del BATCH de datos de Entrenamiento :\\t', list(dato_train.shape))\n",
    "print('\\ttarget de las muestras = ', target_train)\n",
    "print('\\n\\tTamaño del BATCH de datos de Test: \\t', list(dato_test.shape))\n",
    "print('\\ttarget de las muestras = ', target_test)\n"
   ]
  },
  {
   "cell_type": "markdown",
   "id": "veuezCROhRkS",
   "metadata": {
    "id": "veuezCROhRkS"
   },
   "source": [
    "**C. MODELO DE RED**"
   ]
  },
  {
   "cell_type": "markdown",
   "id": "-a1RLlnmhaGB",
   "metadata": {
    "id": "-a1RLlnmhaGB"
   },
   "source": [
    "**1. Clase con la definicion del modelo**\n",
    "\n",
    "---\n",
    "\n"
   ]
  },
  {
   "cell_type": "code",
   "execution_count": 17,
   "id": "WqQMV2Wv1duv",
   "metadata": {
    "id": "WqQMV2Wv1duv"
   },
   "outputs": [],
   "source": [
    "#  PYTORCH: CNN \n",
    "#  IMAGENES de 256 x 256 pixeels RGB  (3 canales)\n",
    "class ConvImageNet(nn.Module):\n",
    "    def __init__(self, in_channels, out_channels):\n",
    "        super(ConvImageNet, self).__init__() #super:heredo de Module\n",
    "\n",
    "#añadir capa dropout\n",
    "        #Capa 1\n",
    "        #  INPUT SHAPE = (CHANNELS, HEIGHT, WIDTH)\n",
    "        self.capa1 =  nn.Conv2d(in_channels, 16, kernel_size = (3,4), padding = (1,1), stride = (1,2))\n",
    "        self.drop1 =  nn.Dropout(DROPOUT) #para ralentizar el aprendizaje\n",
    "        self.norm1 =  nn.BatchNorm2d(16)\n",
    "        self.activa1 = nn.ReLU()  # Tanh, Sigmoid, ReLU()\n",
    "\n",
    "        #Capa 2\n",
    "        self.capa2 =  nn.Conv2d(16, 32, kernel_size = (3,4), padding = (1,1), stride = (1,2))\n",
    "        self.drop2 =  nn.Dropout(DROPOUT)\n",
    "        self.norm2 =  nn.BatchNorm2d(32)\n",
    "        self.activa2 = nn.ReLU()\n",
    "\n",
    "        #Capa 3\n",
    "        self.capa3 =  nn.Conv2d(32, 64, kernel_size = (3,4), padding = (1,1), stride = (1,2))\n",
    "        self.drop3 =  nn.Dropout(DROPOUT)\n",
    "        self.norm3 =  nn.BatchNorm2d(64)\n",
    "        self.activa3 = nn.ReLU()\n",
    "\n",
    "        #Capa 4\n",
    "        self.capa4 =  nn.Conv2d(64, 128, kernel_size = (3,4), padding = (1,1), stride = (1,2))\n",
    "        self.drop4 =  nn.Dropout(DROPOUT)\n",
    "        self.norm4 =  nn.BatchNorm2d(128)\n",
    "        self.activa4 = nn.ReLU()\n",
    "\n",
    "        #Capa 5\n",
    "\n",
    "        n_convlayers = 4   # Número de capas convolutinvas\n",
    "        reduction_dim2 = int(SAMPLE_SIZE/2**n_convlayers) # Tamaño de la Dimension 2 debido al stride=2\n",
    "        n_kernels = 128 # Kernels de la última capa convolutiva\n",
    "        n_channels = SAMPLE_CHANNELS\n",
    "        output_size = reduction_dim2 * n_kernels * n_channels\n",
    "        self.capa5 =  nn.Linear(output_size, 256)\n",
    "        self.drop5 =  nn.Dropout(DROPOUT)\n",
    "        self.norm5 =  nn.BatchNorm1d(256)\n",
    "        self.activa5 = nn.ReLU()\n",
    "\n",
    "        # out_channels = Número de Categorias: 6 (Número de movimientos a detectar)\n",
    "        self.capa6 =  nn.Linear(256, out_channels)\n",
    "        self.activacion =nn.Softmax(dim = 1)\n",
    "\n",
    "\n",
    "\n",
    "    def forward(self, x):\n",
    "       #  X.shape =  [3, 256, 256]\n",
    "       #print(x.shape)\n",
    "       x = x.reshape(x.shape[0],1,x.shape[1], x.shape[2])\n",
    "       #print(x.shape)\n",
    "       #Capa 1\n",
    "       y = self.capa1(x)\n",
    "       x = self.drop1(y)\n",
    "       x = self.norm1(x) #para normalizar los datos\n",
    "       x = self.activa1(x) #despues de normalizar le paso la activacion\n",
    "       #Capa 2\n",
    "       #print(x.shape)\n",
    "       x = self.capa2(x)\n",
    "       x = self.drop2(x)\n",
    "       x = self.norm2(x)\n",
    "       x = self.activa2(x)\n",
    "       #Capa 3\n",
    "       #print(x.shape)\n",
    "       x = self.capa3(x)\n",
    "       x = self.drop3(x)\n",
    "       x = self.norm3(x)\n",
    "       x = self.activa3(x)\n",
    "       #Capa 4\n",
    "       #print('4',x.shape)\n",
    "       x = self.capa4(x)\n",
    "       x = self.drop4(x)\n",
    "       x = self.norm4(x)\n",
    "       x = self.activa4(x)\n",
    "       #Capa 5\n",
    "       #print('5',x.shape)\n",
    "       x = x.reshape(x.shape[0],x.shape[1]* x.shape[2]*x.shape[3])\n",
    "       x = self.capa5(x)\n",
    "       x = self.drop5(x)\n",
    "       x = self.norm5(x)\n",
    "       x = self.activa5(x)\n",
    "       #Capa 6\n",
    "       x = self.capa6(x)\n",
    "       x = self.activacion(x)\n",
    "       return x\n"
   ]
  },
  {
   "cell_type": "code",
   "execution_count": 18,
   "id": "d796267b",
   "metadata": {},
   "outputs": [],
   "source": [
    "#  PYTORCH\n",
    "class ConvEMGNet(nn.Module):\n",
    "    def __init__(self, in_channels, out_channels):\n",
    "        super(ConvEMGNet, self).__init__() #super:heredo de Module\n",
    "\n",
    "#añadir capa dropout\n",
    "        #Capa 1\n",
    "        # in_channels = 1  Por que tenemos una única serie temporal de 600 datos (CASO BREATHING)\n",
    "        self.capa1 =  nn.Conv1d(in_channels, 16, kernel = 4, padding = 2, stride = 2)\n",
    "        self.drop1 =  nn.Dropout(0.4) #para ralentizar el aprendizaje\n",
    "        self.norm1 =  nn.BatchNorm1d(4096)\n",
    "        self.activa1 = nn.ReLU()\n",
    "        #Capa 2\n",
    "        self.capa2 =  nn.Conv1d(16, 32, kernel = 4, padding = 2, stride = 2)\n",
    "        self.drop2 =  nn.Dropout(0.4)\n",
    "        self.norm2 =  nn.BatchNorm1d(4096)\n",
    "        self.activa2 = nn.ReLU()\n",
    "        #Capa 3\n",
    "        self.capa3 =  nn.Conv1d(32, 64, kernel = 4, padding = 2, stride = 2)\n",
    "        self.drop3 =  nn.Dropout(0.4)\n",
    "        self.norm3 =  nn.BatchNorm1d(4096)\n",
    "        self.activa3 = nn.ReLU()\n",
    "        #Capa 4\n",
    "        self.capa4 =  nn.Conv1d(64, 128, kernel = 4, padding = 2, stride = 2)\n",
    "        self.drop4 =  nn.Dropout(0.4)\n",
    "        self.norm4 =  nn.BatchNorm1d(4096)\n",
    "        self.activa4 = nn.ReLU()\n",
    "        #Capa 5\n",
    "        # out_channels = Número de Categorias: 2  (Breathing y NonBreathing)\n",
    "        self.capa5 =  nn.Linear(128 * 36, out_channels)\n",
    "\n",
    "        self.activacion =nn.Sigmoid()\n",
    "\n",
    "    def forward(self, x):\n",
    "       #  X.shape =  [600]\n",
    "       x.reshape[1, x.shape[0]]\n",
    "\n",
    "       #  X.shape =  [1, 600]\n",
    "       #Capa 1\n",
    "       x = self.capa1(x)\n",
    "       x = self.drop1(x)\n",
    "       x = self.norm1(x) #para normalizar los datos\n",
    "       x = self.activa1(x) #despues de normalizar le paso la activacion\n",
    "       #Capa 2\n",
    "       x = self.capa2(x)\n",
    "       x = self.drop2(x)\n",
    "       x = self.norm2(x)\n",
    "       x = self.activa2(x)\n",
    "       #Capa 3\n",
    "       x = self.capa3(x)\n",
    "       x = self.drop3(x)\n",
    "       x = self.norm3(x)\n",
    "       x = self.activa3(x)\n",
    "       #Capa 4\n",
    "       x = self.capa4(x)\n",
    "       x = self.drop4(x)\n",
    "       x = self.norm4(x)\n",
    "       x = self.activa4(x)\n",
    "       #Capa 5\n",
    "       x = self.capa5(x)\n",
    "       x = self.activacion(x)\n",
    "       return x\n"
   ]
  },
  {
   "cell_type": "code",
   "execution_count": 19,
   "id": "0xbWEoZLLITu",
   "metadata": {
    "id": "0xbWEoZLLITu"
   },
   "outputs": [],
   "source": [
    "#TRANSFER LEARNING\n",
    "\n",
    "class ConvPretrained(nn.Module):\n",
    "    def __init__(self, in_channels, out_channels):\n",
    "        super(ConvPretrained, self).__init__() #super:heredo de Module\n",
    "\n",
    "        self.capa1 =  nn.Conv2d(in_channels, 3, kernel_size = (3,4), padding = (1,1))\n",
    "        self.pretrained = models.resnet50(weights = models.ResNet50_Weights.DEFAULT)  #modelos distintos como resnet150, Googlenet\n",
    "        for param in self.pretrained.parameters():\n",
    "            param.require_grad = False\n",
    "        in_features = self.pretrained.fc.in_features\n",
    "        self.pretrained.fc = nn.Linear(in_features, 256)\n",
    "        self.drop1 =  nn.Dropout(DROPOUT)\n",
    "        self.norm1 =  nn.BatchNorm1d(256)\n",
    "        self.activa1 = nn.Tanh()\n",
    "\n",
    "        # out_channels = Número de Categorias: 6 (Número de movimientos a detectar)\n",
    "        self.capa2 =  nn.Linear(256, out_channels)\n",
    "        self.activacion =nn.Softmax(dim = 1)\n",
    "\n",
    "\n",
    "    def forward(self, x):\n",
    "      #print(x.shape)\n",
    "      x = x.reshape(x.shape[0],1,x.shape[1], x.shape[2])\n",
    "      #print(x.shape)\n",
    "      x = self.capa1(x)\n",
    "      x = self.pretrained(x)\n",
    "      #print(x.shape)\n",
    "      x = self.drop1(x)\n",
    "      x = self.norm1(x) #para normalizar los datos\n",
    "      x = self.activa1(x) #despues de normalizar le paso la activacion\n",
    "      #Capa Dense de Salida\n",
    "      x = self.capa2(x)\n",
    "      #print(x.shape)\n",
    "      x = self.activacion(x)\n",
    "      #print(x.shape)\n",
    "      return x\n",
    "\n",
    "\n",
    "#añadir capa dropout"
   ]
  },
  {
   "cell_type": "code",
   "execution_count": 20,
   "id": "CIWww6H-hSnW",
   "metadata": {
    "id": "CIWww6H-hSnW"
   },
   "outputs": [],
   "source": [
    "#RED DE TIPO DENSE\n",
    "class SimpleNet(nn.Module):\n",
    "    def __init__(self, in_channels, out_channels):\n",
    "        super(SimpleNet, self).__init__() #super:heredo de Module\n",
    "\n",
    "#añadir capa dropout\n",
    "        #Capa 1\n",
    "        self.capa1 =  nn.Linear(in_channels, 4096)\n",
    "        self.drop1 =  nn.Dropout(0.4) #para ralentizar el aprendizaje\n",
    "        self.norm1 =  nn.BatchNorm1d(4096)\n",
    "        self.activa1 = nn.ReLU()\n",
    "        #Capa 2\n",
    "        self.capa2 =  nn.Linear(4096, 2048)\n",
    "        self.drop2 =  nn.Dropout(0.4)\n",
    "        self.norm2 =  nn.BatchNorm1d(2048)\n",
    "        self.activa2 = nn.ReLU()\n",
    "        #Capa 3\n",
    "        self.capa3 =  nn.Linear(2048, 512)\n",
    "        self.drop3 =  nn.Dropout(0.4)\n",
    "        self.norm3 =  nn.BatchNorm1d(512)\n",
    "        self.activa3 = nn.ReLU()\n",
    "        #Capa 4\n",
    "        self.capa4 =  nn.Linear(512,64)\n",
    "        self.drop4 =  nn.Dropout(0.4)\n",
    "        self.norm4 =  nn.BatchNorm1d(64)\n",
    "        self.activa4 = nn.ReLU()\n",
    "        #Capa 5\n",
    "        self.capa5 =  nn.Linear(64, out_channels)\n",
    "\n",
    "        self.activacion =nn.Softmax(dim = 1)\n",
    "\n",
    "\n",
    "    def forward(self, x):\n",
    "      #redimensionamiento de los datos\n",
    "       #print('----')\n",
    "       #print('1', x.shape)\n",
    "       x = x.reshape(x.shape[0], -1)\n",
    "       #Capa 1\n",
    "       x = self.capa1(x)\n",
    "       x = self.drop1(x)\n",
    "       x = self.norm1(x) #para normalizar los datos\n",
    "       x = self.activa1(x) #despues de normalizar le paso la activacion\n",
    "       #Capa 2\n",
    "       #print('2', x.shape)\n",
    "       x = self.capa2(x)\n",
    "       x = self.drop2(x)\n",
    "       x = self.norm2(x)\n",
    "       x = self.activa2(x)\n",
    "       #Capa 3\n",
    "       #print('3', x.shape)\n",
    "       x = self.capa3(x)\n",
    "       x = self.drop3(x)\n",
    "       x = self.norm3(x)\n",
    "       x = self.activa3(x)\n",
    "       #Capa 4\n",
    "       #print('4', x.shape)\n",
    "       x = self.capa4(x)\n",
    "       x = self.drop4(x)\n",
    "       x = self.norm4(x)\n",
    "       x = self.activa4(x)\n",
    "       #Capa 5\n",
    "       #print('5', x.shape)\n",
    "\n",
    "       x = self.capa5(x)\n",
    "       x = self.activacion(x)\n",
    "       return x"
   ]
  },
  {
   "cell_type": "code",
   "execution_count": 21,
   "id": "PAWi1xwAG8zA",
   "metadata": {
    "colab": {
     "base_uri": "https://localhost:8080/"
    },
    "id": "PAWi1xwAG8zA",
    "outputId": "160d1810-6196-4404-d05b-b0cff67af4da"
   },
   "outputs": [
    {
     "name": "stdout",
     "output_type": "stream",
     "text": [
      "ARQUITECTURA DEL MODELO:\n",
      "\n",
      "ConvPretrained(\n",
      "  (capa1): Conv2d(1, 3, kernel_size=(3, 4), stride=(1, 1), padding=(1, 1))\n",
      "  (pretrained): ResNet(\n",
      "    (conv1): Conv2d(3, 64, kernel_size=(7, 7), stride=(2, 2), padding=(3, 3), bias=False)\n",
      "    (bn1): BatchNorm2d(64, eps=1e-05, momentum=0.1, affine=True, track_running_stats=True)\n",
      "    (relu): ReLU(inplace=True)\n",
      "    (maxpool): MaxPool2d(kernel_size=3, stride=2, padding=1, dilation=1, ceil_mode=False)\n",
      "    (layer1): Sequential(\n",
      "      (0): Bottleneck(\n",
      "        (conv1): Conv2d(64, 64, kernel_size=(1, 1), stride=(1, 1), bias=False)\n",
      "        (bn1): BatchNorm2d(64, eps=1e-05, momentum=0.1, affine=True, track_running_stats=True)\n",
      "        (conv2): Conv2d(64, 64, kernel_size=(3, 3), stride=(1, 1), padding=(1, 1), bias=False)\n",
      "        (bn2): BatchNorm2d(64, eps=1e-05, momentum=0.1, affine=True, track_running_stats=True)\n",
      "        (conv3): Conv2d(64, 256, kernel_size=(1, 1), stride=(1, 1), bias=False)\n",
      "        (bn3): BatchNorm2d(256, eps=1e-05, momentum=0.1, affine=True, track_running_stats=True)\n",
      "        (relu): ReLU(inplace=True)\n",
      "        (downsample): Sequential(\n",
      "          (0): Conv2d(64, 256, kernel_size=(1, 1), stride=(1, 1), bias=False)\n",
      "          (1): BatchNorm2d(256, eps=1e-05, momentum=0.1, affine=True, track_running_stats=True)\n",
      "        )\n",
      "      )\n",
      "      (1): Bottleneck(\n",
      "        (conv1): Conv2d(256, 64, kernel_size=(1, 1), stride=(1, 1), bias=False)\n",
      "        (bn1): BatchNorm2d(64, eps=1e-05, momentum=0.1, affine=True, track_running_stats=True)\n",
      "        (conv2): Conv2d(64, 64, kernel_size=(3, 3), stride=(1, 1), padding=(1, 1), bias=False)\n",
      "        (bn2): BatchNorm2d(64, eps=1e-05, momentum=0.1, affine=True, track_running_stats=True)\n",
      "        (conv3): Conv2d(64, 256, kernel_size=(1, 1), stride=(1, 1), bias=False)\n",
      "        (bn3): BatchNorm2d(256, eps=1e-05, momentum=0.1, affine=True, track_running_stats=True)\n",
      "        (relu): ReLU(inplace=True)\n",
      "      )\n",
      "      (2): Bottleneck(\n",
      "        (conv1): Conv2d(256, 64, kernel_size=(1, 1), stride=(1, 1), bias=False)\n",
      "        (bn1): BatchNorm2d(64, eps=1e-05, momentum=0.1, affine=True, track_running_stats=True)\n",
      "        (conv2): Conv2d(64, 64, kernel_size=(3, 3), stride=(1, 1), padding=(1, 1), bias=False)\n",
      "        (bn2): BatchNorm2d(64, eps=1e-05, momentum=0.1, affine=True, track_running_stats=True)\n",
      "        (conv3): Conv2d(64, 256, kernel_size=(1, 1), stride=(1, 1), bias=False)\n",
      "        (bn3): BatchNorm2d(256, eps=1e-05, momentum=0.1, affine=True, track_running_stats=True)\n",
      "        (relu): ReLU(inplace=True)\n",
      "      )\n",
      "    )\n",
      "    (layer2): Sequential(\n",
      "      (0): Bottleneck(\n",
      "        (conv1): Conv2d(256, 128, kernel_size=(1, 1), stride=(1, 1), bias=False)\n",
      "        (bn1): BatchNorm2d(128, eps=1e-05, momentum=0.1, affine=True, track_running_stats=True)\n",
      "        (conv2): Conv2d(128, 128, kernel_size=(3, 3), stride=(2, 2), padding=(1, 1), bias=False)\n",
      "        (bn2): BatchNorm2d(128, eps=1e-05, momentum=0.1, affine=True, track_running_stats=True)\n",
      "        (conv3): Conv2d(128, 512, kernel_size=(1, 1), stride=(1, 1), bias=False)\n",
      "        (bn3): BatchNorm2d(512, eps=1e-05, momentum=0.1, affine=True, track_running_stats=True)\n",
      "        (relu): ReLU(inplace=True)\n",
      "        (downsample): Sequential(\n",
      "          (0): Conv2d(256, 512, kernel_size=(1, 1), stride=(2, 2), bias=False)\n",
      "          (1): BatchNorm2d(512, eps=1e-05, momentum=0.1, affine=True, track_running_stats=True)\n",
      "        )\n",
      "      )\n",
      "      (1): Bottleneck(\n",
      "        (conv1): Conv2d(512, 128, kernel_size=(1, 1), stride=(1, 1), bias=False)\n",
      "        (bn1): BatchNorm2d(128, eps=1e-05, momentum=0.1, affine=True, track_running_stats=True)\n",
      "        (conv2): Conv2d(128, 128, kernel_size=(3, 3), stride=(1, 1), padding=(1, 1), bias=False)\n",
      "        (bn2): BatchNorm2d(128, eps=1e-05, momentum=0.1, affine=True, track_running_stats=True)\n",
      "        (conv3): Conv2d(128, 512, kernel_size=(1, 1), stride=(1, 1), bias=False)\n",
      "        (bn3): BatchNorm2d(512, eps=1e-05, momentum=0.1, affine=True, track_running_stats=True)\n",
      "        (relu): ReLU(inplace=True)\n",
      "      )\n",
      "      (2): Bottleneck(\n",
      "        (conv1): Conv2d(512, 128, kernel_size=(1, 1), stride=(1, 1), bias=False)\n",
      "        (bn1): BatchNorm2d(128, eps=1e-05, momentum=0.1, affine=True, track_running_stats=True)\n",
      "        (conv2): Conv2d(128, 128, kernel_size=(3, 3), stride=(1, 1), padding=(1, 1), bias=False)\n",
      "        (bn2): BatchNorm2d(128, eps=1e-05, momentum=0.1, affine=True, track_running_stats=True)\n",
      "        (conv3): Conv2d(128, 512, kernel_size=(1, 1), stride=(1, 1), bias=False)\n",
      "        (bn3): BatchNorm2d(512, eps=1e-05, momentum=0.1, affine=True, track_running_stats=True)\n",
      "        (relu): ReLU(inplace=True)\n",
      "      )\n",
      "      (3): Bottleneck(\n",
      "        (conv1): Conv2d(512, 128, kernel_size=(1, 1), stride=(1, 1), bias=False)\n",
      "        (bn1): BatchNorm2d(128, eps=1e-05, momentum=0.1, affine=True, track_running_stats=True)\n",
      "        (conv2): Conv2d(128, 128, kernel_size=(3, 3), stride=(1, 1), padding=(1, 1), bias=False)\n",
      "        (bn2): BatchNorm2d(128, eps=1e-05, momentum=0.1, affine=True, track_running_stats=True)\n",
      "        (conv3): Conv2d(128, 512, kernel_size=(1, 1), stride=(1, 1), bias=False)\n",
      "        (bn3): BatchNorm2d(512, eps=1e-05, momentum=0.1, affine=True, track_running_stats=True)\n",
      "        (relu): ReLU(inplace=True)\n",
      "      )\n",
      "    )\n",
      "    (layer3): Sequential(\n",
      "      (0): Bottleneck(\n",
      "        (conv1): Conv2d(512, 256, kernel_size=(1, 1), stride=(1, 1), bias=False)\n",
      "        (bn1): BatchNorm2d(256, eps=1e-05, momentum=0.1, affine=True, track_running_stats=True)\n",
      "        (conv2): Conv2d(256, 256, kernel_size=(3, 3), stride=(2, 2), padding=(1, 1), bias=False)\n",
      "        (bn2): BatchNorm2d(256, eps=1e-05, momentum=0.1, affine=True, track_running_stats=True)\n",
      "        (conv3): Conv2d(256, 1024, kernel_size=(1, 1), stride=(1, 1), bias=False)\n",
      "        (bn3): BatchNorm2d(1024, eps=1e-05, momentum=0.1, affine=True, track_running_stats=True)\n",
      "        (relu): ReLU(inplace=True)\n",
      "        (downsample): Sequential(\n",
      "          (0): Conv2d(512, 1024, kernel_size=(1, 1), stride=(2, 2), bias=False)\n",
      "          (1): BatchNorm2d(1024, eps=1e-05, momentum=0.1, affine=True, track_running_stats=True)\n",
      "        )\n",
      "      )\n",
      "      (1): Bottleneck(\n",
      "        (conv1): Conv2d(1024, 256, kernel_size=(1, 1), stride=(1, 1), bias=False)\n",
      "        (bn1): BatchNorm2d(256, eps=1e-05, momentum=0.1, affine=True, track_running_stats=True)\n",
      "        (conv2): Conv2d(256, 256, kernel_size=(3, 3), stride=(1, 1), padding=(1, 1), bias=False)\n",
      "        (bn2): BatchNorm2d(256, eps=1e-05, momentum=0.1, affine=True, track_running_stats=True)\n",
      "        (conv3): Conv2d(256, 1024, kernel_size=(1, 1), stride=(1, 1), bias=False)\n",
      "        (bn3): BatchNorm2d(1024, eps=1e-05, momentum=0.1, affine=True, track_running_stats=True)\n",
      "        (relu): ReLU(inplace=True)\n",
      "      )\n",
      "      (2): Bottleneck(\n",
      "        (conv1): Conv2d(1024, 256, kernel_size=(1, 1), stride=(1, 1), bias=False)\n",
      "        (bn1): BatchNorm2d(256, eps=1e-05, momentum=0.1, affine=True, track_running_stats=True)\n",
      "        (conv2): Conv2d(256, 256, kernel_size=(3, 3), stride=(1, 1), padding=(1, 1), bias=False)\n",
      "        (bn2): BatchNorm2d(256, eps=1e-05, momentum=0.1, affine=True, track_running_stats=True)\n",
      "        (conv3): Conv2d(256, 1024, kernel_size=(1, 1), stride=(1, 1), bias=False)\n",
      "        (bn3): BatchNorm2d(1024, eps=1e-05, momentum=0.1, affine=True, track_running_stats=True)\n",
      "        (relu): ReLU(inplace=True)\n",
      "      )\n",
      "      (3): Bottleneck(\n",
      "        (conv1): Conv2d(1024, 256, kernel_size=(1, 1), stride=(1, 1), bias=False)\n",
      "        (bn1): BatchNorm2d(256, eps=1e-05, momentum=0.1, affine=True, track_running_stats=True)\n",
      "        (conv2): Conv2d(256, 256, kernel_size=(3, 3), stride=(1, 1), padding=(1, 1), bias=False)\n",
      "        (bn2): BatchNorm2d(256, eps=1e-05, momentum=0.1, affine=True, track_running_stats=True)\n",
      "        (conv3): Conv2d(256, 1024, kernel_size=(1, 1), stride=(1, 1), bias=False)\n",
      "        (bn3): BatchNorm2d(1024, eps=1e-05, momentum=0.1, affine=True, track_running_stats=True)\n",
      "        (relu): ReLU(inplace=True)\n",
      "      )\n",
      "      (4): Bottleneck(\n",
      "        (conv1): Conv2d(1024, 256, kernel_size=(1, 1), stride=(1, 1), bias=False)\n",
      "        (bn1): BatchNorm2d(256, eps=1e-05, momentum=0.1, affine=True, track_running_stats=True)\n",
      "        (conv2): Conv2d(256, 256, kernel_size=(3, 3), stride=(1, 1), padding=(1, 1), bias=False)\n",
      "        (bn2): BatchNorm2d(256, eps=1e-05, momentum=0.1, affine=True, track_running_stats=True)\n",
      "        (conv3): Conv2d(256, 1024, kernel_size=(1, 1), stride=(1, 1), bias=False)\n",
      "        (bn3): BatchNorm2d(1024, eps=1e-05, momentum=0.1, affine=True, track_running_stats=True)\n",
      "        (relu): ReLU(inplace=True)\n",
      "      )\n",
      "      (5): Bottleneck(\n",
      "        (conv1): Conv2d(1024, 256, kernel_size=(1, 1), stride=(1, 1), bias=False)\n",
      "        (bn1): BatchNorm2d(256, eps=1e-05, momentum=0.1, affine=True, track_running_stats=True)\n",
      "        (conv2): Conv2d(256, 256, kernel_size=(3, 3), stride=(1, 1), padding=(1, 1), bias=False)\n",
      "        (bn2): BatchNorm2d(256, eps=1e-05, momentum=0.1, affine=True, track_running_stats=True)\n",
      "        (conv3): Conv2d(256, 1024, kernel_size=(1, 1), stride=(1, 1), bias=False)\n",
      "        (bn3): BatchNorm2d(1024, eps=1e-05, momentum=0.1, affine=True, track_running_stats=True)\n",
      "        (relu): ReLU(inplace=True)\n",
      "      )\n",
      "    )\n",
      "    (layer4): Sequential(\n",
      "      (0): Bottleneck(\n",
      "        (conv1): Conv2d(1024, 512, kernel_size=(1, 1), stride=(1, 1), bias=False)\n",
      "        (bn1): BatchNorm2d(512, eps=1e-05, momentum=0.1, affine=True, track_running_stats=True)\n",
      "        (conv2): Conv2d(512, 512, kernel_size=(3, 3), stride=(2, 2), padding=(1, 1), bias=False)\n",
      "        (bn2): BatchNorm2d(512, eps=1e-05, momentum=0.1, affine=True, track_running_stats=True)\n",
      "        (conv3): Conv2d(512, 2048, kernel_size=(1, 1), stride=(1, 1), bias=False)\n",
      "        (bn3): BatchNorm2d(2048, eps=1e-05, momentum=0.1, affine=True, track_running_stats=True)\n",
      "        (relu): ReLU(inplace=True)\n",
      "        (downsample): Sequential(\n",
      "          (0): Conv2d(1024, 2048, kernel_size=(1, 1), stride=(2, 2), bias=False)\n",
      "          (1): BatchNorm2d(2048, eps=1e-05, momentum=0.1, affine=True, track_running_stats=True)\n",
      "        )\n",
      "      )\n",
      "      (1): Bottleneck(\n",
      "        (conv1): Conv2d(2048, 512, kernel_size=(1, 1), stride=(1, 1), bias=False)\n",
      "        (bn1): BatchNorm2d(512, eps=1e-05, momentum=0.1, affine=True, track_running_stats=True)\n",
      "        (conv2): Conv2d(512, 512, kernel_size=(3, 3), stride=(1, 1), padding=(1, 1), bias=False)\n",
      "        (bn2): BatchNorm2d(512, eps=1e-05, momentum=0.1, affine=True, track_running_stats=True)\n",
      "        (conv3): Conv2d(512, 2048, kernel_size=(1, 1), stride=(1, 1), bias=False)\n",
      "        (bn3): BatchNorm2d(2048, eps=1e-05, momentum=0.1, affine=True, track_running_stats=True)\n",
      "        (relu): ReLU(inplace=True)\n",
      "      )\n",
      "      (2): Bottleneck(\n",
      "        (conv1): Conv2d(2048, 512, kernel_size=(1, 1), stride=(1, 1), bias=False)\n",
      "        (bn1): BatchNorm2d(512, eps=1e-05, momentum=0.1, affine=True, track_running_stats=True)\n",
      "        (conv2): Conv2d(512, 512, kernel_size=(3, 3), stride=(1, 1), padding=(1, 1), bias=False)\n",
      "        (bn2): BatchNorm2d(512, eps=1e-05, momentum=0.1, affine=True, track_running_stats=True)\n",
      "        (conv3): Conv2d(512, 2048, kernel_size=(1, 1), stride=(1, 1), bias=False)\n",
      "        (bn3): BatchNorm2d(2048, eps=1e-05, momentum=0.1, affine=True, track_running_stats=True)\n",
      "        (relu): ReLU(inplace=True)\n",
      "      )\n",
      "    )\n",
      "    (avgpool): AdaptiveAvgPool2d(output_size=(1, 1))\n",
      "    (fc): Linear(in_features=2048, out_features=256, bias=True)\n",
      "  )\n",
      "  (drop1): Dropout(p=0.0, inplace=False)\n",
      "  (norm1): BatchNorm1d(256, eps=1e-05, momentum=0.1, affine=True, track_running_stats=True)\n",
      "  (activa1): Tanh()\n",
      "  (capa2): Linear(in_features=256, out_features=6, bias=True)\n",
      "  (activacion): Softmax(dim=1)\n",
      ")\n"
     ]
    }
   ],
   "source": [
    "#Elijo qué red voy a utilizar\n",
    "def get_Model(NETWORK):\n",
    "    if NETWORK == 'DENSE':\n",
    "        INPUT_CHANNELS = X.shape[1]*X.shape[2]\n",
    "        model =  SimpleNet(INPUT_CHANNELS, CLASES)\n",
    "    if NETWORK == 'CNN_Image':\n",
    "        INPUT_CHANNELS = 1\n",
    "        model =  ConvImageNet(INPUT_CHANNELS, CLASES)\n",
    "    if NETWORK == 'PRETRAINED':\n",
    "        INPUT_CHANNELS = 1\n",
    "        model =  ConvPretrained(INPUT_CHANNELS, CLASES)\n",
    "    return model\n",
    "\n",
    "model = get_Model(NETWORK)\n",
    "print('ARQUITECTURA DEL MODELO:\\n')\n",
    "print(model)"
   ]
  },
  {
   "cell_type": "markdown",
   "id": "5JLW4UK0hkRz",
   "metadata": {
    "id": "5JLW4UK0hkRz"
   },
   "source": [
    "**2. Optimizador**"
   ]
  },
  {
   "cell_type": "code",
   "execution_count": 22,
   "id": "HEejetOKhkeJ",
   "metadata": {
    "id": "HEejetOKhkeJ"
   },
   "outputs": [],
   "source": [
    "#optimizar los parámetros con \"SGD\". Que se le pasa? PArametros del modelo(los millones de pesos y el learning rate)\n",
    "#  SGD, Adam\n",
    "optimizer = optim.SGD(model.parameters(), lr = LEARNING_RATE)\n"
   ]
  },
  {
   "cell_type": "code",
   "execution_count": 23,
   "id": "-mkZJ8O8G6Lv",
   "metadata": {
    "colab": {
     "base_uri": "https://localhost:8080/"
    },
    "id": "-mkZJ8O8G6Lv",
    "outputId": "f53be271-2bef-4974-98a2-4bc784d36bfa"
   },
   "outputs": [],
   "source": [
    "# GUARDAR LOS PESOS DE MAQUINA\n",
    "def saveModel(model, optimizer, name):\n",
    "    checkpoint = {\n",
    "        'optimizer' :  None,\n",
    "        'model'     :  None\n",
    "    }\n",
    "    \n",
    "    checkpoint['optimizer'] =  optimizer.state_dict()\n",
    "    checkpoint['model']     =  model.state_dict()\n",
    "    \n",
    "    path_model = os.path.join(PATH_DATA, name)\n",
    "    print('SAVE MODEL PATH:',path_model)\n",
    "    torch.save(checkpoint, path_model)\n",
    "    \n",
    "    path_model_script = os.path.join(PATH_DATA, \"model_script.pt\") \n",
    "    #exportacion para android para utilizar el modelo con torch script\n",
    "    scripted_model = torch.jit.script(model) \n",
    "    scripted_model.save(path_model_script)\n",
    "        \n",
    "    metadata = {\n",
    "        \"input_size\": [1, 1, 150], \n",
    "        \"output_classes\": [\"REPOSO\", \"ARRIBA\", \"ABAJO\", \"CERRADO\"],\n",
    "        \"model_name\": \"ResNet50\",\n",
    "        \"hyperparameters\": {\n",
    "            \"learning_rate\": 0.005,\n",
    "            \"epochs\": 50\n",
    "        }\n",
    "    }\n",
    "    \n",
    "    # Guardar la configuración en un archivo JSON\n",
    "    with open(\"model_metadata.json\", \"w\") as json_file:\n",
    "        json.dump(metadata, json_file)"
   ]
  },
  {
   "cell_type": "code",
   "execution_count": 24,
   "id": "3ad3d5cd",
   "metadata": {},
   "outputs": [],
   "source": [
    "# CARGAR LOS PESOS DE MAQUINA\n",
    "def load_Model(model, model_name):\n",
    "    path_model = os.path.join(PATH_DATA, model_name)\n",
    "    print(path_model)\n",
    "    checkpoint = torch.load(path_model)\n",
    "    model.load_state_dict(checkpoint['model'])\n",
    "    return model"
   ]
  },
  {
   "cell_type": "markdown",
   "id": "0d879fa8",
   "metadata": {},
   "source": [
    "**2.1 Checkpoint**"
   ]
  },
  {
   "cell_type": "markdown",
   "id": "3da9638b",
   "metadata": {},
   "source": [
    "Se utiliza para guardar el estado del modelo y el optimizador durante el entrenamiento. Esto permite reanudar el entrenamiento desde ese punto en caso de interrupciones o para evaluar el modelo en las diferentes etapas. \n",
    "\n",
    "El checkpoint se activa si el valor actual mejora respecto al minimo y guarda el modelo y el optimizador en un archivo llamado \"checkpoint.pt\". "
   ]
  },
  {
   "cell_type": "code",
   "execution_count": 25,
   "id": "63e5eec7-4e50-456c-aed0-dac587db0877",
   "metadata": {},
   "outputs": [],
   "source": [
    "CALLBACK_CHECKPOINT = True\n",
    "monitor = []\n",
    "def checkpoint(epoch, value):\n",
    "    print(value, np.min(monitor))\n",
    "    if value <= np.min(monitor):\n",
    "        print('CHECKPOINT ACTIVATED')\n",
    "        saveModel(model, optimizer, 'checkpoint.pt')"
   ]
  },
  {
   "cell_type": "markdown",
   "id": "418f3612",
   "metadata": {},
   "source": [
    "**2.2 Learning Rate Callback**"
   ]
  },
  {
   "cell_type": "markdown",
   "id": "822b65c0",
   "metadata": {},
   "source": [
    "Si está activado, permite configurar un \"scheduler\" para ajustar la tasa de aprendizaje(learning rate) durante el entrenamiento.\n",
    "\n",
    "Se guarda el learning rate inicial, se crea un scheduler de tasa de aprendizaje exponencial (Exponential_LR) con un factor de decaimiento (gamma) de 0.85, que reduce el learning rate exponencialmente en cada EPOCH, comenzando desde el EPOCH 20.\n"
   ]
  },
  {
   "cell_type": "code",
   "execution_count": 26,
   "id": "71db830b-8ffc-4fcf-99b3-9e1ae276cdb1",
   "metadata": {},
   "outputs": [],
   "source": [
    "CALLBACK_LEARNING_RATE = False\n",
    "if CALLBACK_LEARNING_RATE:\n",
    "    for param_group in optimizer.param_groups:\n",
    "        if 'initial_lr' not in param_group:\n",
    "            param_group['initial_lr'] = param_group['lr']\n",
    "    lr_scheduler = ExponentialLR(optimizer,\n",
    "                                gamma = 0.85,\n",
    "                                last_epoch = 20)\n"
   ]
  },
  {
   "cell_type": "markdown",
   "id": "EmNE-dXFlquN",
   "metadata": {
    "id": "EmNE-dXFlquN"
   },
   "source": [
    "**3. Entrenamiento**"
   ]
  },
  {
   "cell_type": "markdown",
   "id": "40678cb4",
   "metadata": {},
   "source": [
    "Entrena un modelo de aprendizaje profundo durante un numero de epocas (EPOCHS). \n",
    "En cada epoca, procesa los datos, calcula la pérdida y actualiza los parámetros del modelo. \n",
    "Guarda las perdidas por lote (Batch) y por EPOCH junto con la precision. \n",
    "Ajusta la tasa de aprendizaje (utilizando el scheduler) y guarda el checkpoint si la pérdida mejora. \n",
    "Al final, guarda el modelo entrenado en un archivo como \"model.pt\". "
   ]
  },
  {
   "cell_type": "code",
   "execution_count": 27,
   "id": "RHK22kKnlq67",
   "metadata": {
    "colab": {
     "base_uri": "https://localhost:8080/"
    },
    "id": "RHK22kKnlq67",
    "outputId": "570a4834-ad66-4ce7-e3ae-2042020eb8c7",
    "scrolled": true
   },
   "outputs": [],
   "source": [
    "def train_Model(model):\n",
    "    loss_batch = []\n",
    "    loss_epoch = []\n",
    "    precision_epoch = []\n",
    "    \n",
    "    model.train()\n",
    "    model.to(device)\n",
    "      \n",
    "    for epoch in range(EPOCHS):\n",
    "        correcto = 0\n",
    "        total = 0\n",
    "        for batch_idx, (data, target) in enumerate(tqdm(train_loader)):\n",
    "            data = data.type(torch.float32).to(device)\n",
    "            target = target.type(torch.long).to(device)\n",
    "    \n",
    "            output = model(data)\n",
    "            #label = torch.argmax(output, dim=1)\n",
    "            label = output.to(device)\n",
    "            #print('\\n\\n',label.shape, target.shape)\n",
    "            #print('\\n',label, target)\n",
    "            loss = CRITERION(label, target)\n",
    "    \n",
    "            optimizer.zero_grad() #resetear\n",
    "            loss.backward() #loss se va a utilizar para hacer el aprendizaje\n",
    "            optimizer.step() #calcula los gradientes. este es el aprendizaje\n",
    "            loss_batch.append(loss.detach().cpu().numpy())  #guardarlo en una lista para hacer un plot\n",
    "    \n",
    "            labelmax = torch.argmax(output, dim=1)\n",
    "            total += labelmax.size(0)\n",
    "            correcto += (target == labelmax).sum().item()\n",
    "    \n",
    "        if CALLBACK_LEARNING_RATE:\n",
    "            lr_scheduler.step()   \n",
    "            print('Learning Rate Next Epoch = ',lr_scheduler. get_last_lr())\n",
    "    \n",
    "        if CALLBACK_CHECKPOINT:\n",
    "            value = loss.item()\n",
    "            monitor.append(value)\n",
    "            checkpoint(epoch, value)\n",
    "        \n",
    "        precision = 100*correcto/total\n",
    "        precision_text = '{:.2f}'.format(precision)\n",
    "        print('Train Epoch: {} [{}/{} ({:.0f}%)]\\tLoss: {:.6f}'.format(\n",
    "            epoch, batch_idx * len(data), len(train_loader.dataset),\n",
    "            100. * batch_idx / len(train_loader), loss.item()))\n",
    "        print('Precision:',precision_text, '%')\n",
    "        loss_epoch.append(loss.detach().cpu().numpy())\n",
    "        precision_epoch.append(precision)\n",
    "        \n",
    "    # GUARDAR LOS PESOS DE LA MAQUINA\n",
    "    saveModel(model, optimizer, 'model.pt')\n",
    "    return model, loss_epoch, precision_epoch\n"
   ]
  },
  {
   "cell_type": "markdown",
   "id": "mc-a4-oVlrC-",
   "metadata": {
    "id": "mc-a4-oVlrC-"
   },
   "source": [
    "**4. Verificacion de la función de perdidas**"
   ]
  },
  {
   "cell_type": "code",
   "execution_count": 28,
   "id": "ikzp6b72lrKK",
   "metadata": {
    "colab": {
     "base_uri": "https://localhost:8080/",
     "height": 472
    },
    "id": "ikzp6b72lrKK",
    "outputId": "0da7d63d-7e04-42cf-9101-b986ccd42ca6"
   },
   "outputs": [],
   "source": [
    "def plot_Results(loss_epoch, precission_epoch):\n",
    "    plt.plot(loss_epoch)\n",
    "    plt.title('Loss Function Evolution')\n",
    "    plt.xlabel('Epochs')\n",
    "    plt.ylabel('LOSS (ERROR)')\n",
    "    plt.show()\n",
    "    \n",
    "    plt.plot(precision_epoch)\n",
    "    plt.title('Accuracy')\n",
    "    plt.xlabel('Epochs')\n",
    "    plt.ylabel('Acurracy')\n",
    "    plt.show()"
   ]
  },
  {
   "cell_type": "markdown",
   "id": "hXNtBt14tH5B",
   "metadata": {
    "id": "hXNtBt14tH5B"
   },
   "source": [
    "## D. EVALUACION"
   ]
  },
  {
   "cell_type": "markdown",
   "id": "0c2a3459",
   "metadata": {},
   "source": [
    "**0.PREPARACION DEL MODELO PARA QUE TENGA LAS MEJORES CONDICIONES**"
   ]
  },
  {
   "cell_type": "markdown",
   "id": "iz3VHCPDtNJA",
   "metadata": {
    "id": "iz3VHCPDtNJA"
   },
   "source": [
    "**1. Evaluación con los datos de entrenamiento**\n",
    "\n",
    "\n",
    "---\n",
    "Con los resultados se evaluan las métricas que se deseen, por eejmplo:\n",
    "\n",
    "\n",
    "*   Accuracy\n",
    "*   Matriz de Confusión\n",
    "\n",
    "\n",
    "\n"
   ]
  },
  {
   "cell_type": "markdown",
   "id": "f216bdd3",
   "metadata": {},
   "source": [
    "Evalúa el rendimiento de un modelo con el dataset de test que no se ha utilizado durante el entrenamiento. Calcula la precision total del modelo. AL final, calcula la precision global y visualiza la matriz de confusion con un mapa de calor. "
   ]
  },
  {
   "cell_type": "code",
   "execution_count": 29,
   "id": "bXpoV2HolrXu",
   "metadata": {
    "colab": {
     "base_uri": "https://localhost:8080/",
     "height": 544
    },
    "id": "bXpoV2HolrXu",
    "outputId": "2b9d3f3f-d028-4e6f-8937-1519f8d2b316",
    "scrolled": true
   },
   "outputs": [],
   "source": [
    "def eval_Model(model):\n",
    "    total = 0\n",
    "    correcto = 0\n",
    "    label_test = []\n",
    "    target_test = []\n",
    "    \n",
    "    model.eval()\n",
    "    with torch.no_grad():\n",
    "      for batch_idx, (data, target) in enumerate(tqdm(test_loader)):\n",
    "    \n",
    "            data = data.type(torch.float32).to(device)\n",
    "            target = target.type(torch.int).to(device)\n",
    "            output = model(data)\n",
    "    \n",
    "            label = torch.argmax(output, dim=1).to(device)\n",
    "            total += label.size(0)\n",
    "            correcto += (target == label).sum().item()\n",
    "    \n",
    "            label_test.append(label)\n",
    "            target_test.append(target)\n",
    "    label_test = torch.cat(label_test).cpu()\n",
    "    target_test = torch.cat(target_test).cpu()\n",
    "    \n",
    "    accuracy = (correcto / total) * 100\n",
    "    print('\\nAccuracy:\\t', '{0:.2f}'.format(accuracy), '%')\n",
    "    \n",
    "    cm = confusion_matrix(label_test, target_test)\n",
    "    sns.heatmap(cm, annot=True, fmt='d', cmap='Blues')\n",
    "    \n",
    "    plt.xticks(fontsize = 15)\n",
    "    plt.yticks(fontsize = 15)\n",
    "    \n",
    "    # Agregar etiquetas a los ejes\n",
    "    plt.ylabel('Prediction')\n",
    "    plt.xlabel('True Class')\n",
    "    plt.title('CNN Transfer Learning: Kaggle Database')\n",
    "    plt.show()\n",
    "    return accuracy"
   ]
  },
  {
   "cell_type": "markdown",
   "id": "5cc2bfb6",
   "metadata": {},
   "source": [
    "Entrena y evalua un modelo usando diferentes optimizadores (SGD, ADAM, RMSprop). "
   ]
  },
  {
   "cell_type": "code",
   "execution_count": 30,
   "id": "9b179034-dfa4-476c-bd61-76d6d6201532",
   "metadata": {},
   "outputs": [
    {
     "name": "stdout",
     "output_type": "stream",
     "text": [
      "['SGD']\n"
     ]
    },
    {
     "name": "stderr",
     "output_type": "stream",
     "text": [
      "  0%|                                                                                                                      | 0/3007 [00:00<?, ?it/s]C:\\ProgramData\\anaconda3\\envs\\torch\\Lib\\site-packages\\torch\\nn\\modules\\conv.py:456: UserWarning: Plan failed with a cudnnException: CUDNN_BACKEND_EXECUTION_PLAN_DESCRIPTOR: cudnnFinalize Descriptor Failed cudnn_status: CUDNN_STATUS_NOT_SUPPORTED (Triggered internally at C:\\cb\\pytorch_1000000000000\\work\\aten\\src\\ATen\\native\\cudnn\\Conv_v8.cpp:919.)\n",
      "  return F.conv2d(input, weight, bias, self.stride,\n",
      "C:\\ProgramData\\anaconda3\\envs\\torch\\Lib\\site-packages\\torch\\autograd\\graph.py:744: UserWarning: Plan failed with a cudnnException: CUDNN_BACKEND_EXECUTION_PLAN_DESCRIPTOR: cudnnFinalize Descriptor Failed cudnn_status: CUDNN_STATUS_NOT_SUPPORTED (Triggered internally at C:\\cb\\pytorch_1000000000000\\work\\aten\\src\\ATen\\native\\cudnn\\Conv_v8.cpp:919.)\n",
      "  return Variable._execution_engine.run_backward(  # Calls into the C++ engine to run the backward pass\n",
      "100%|███████████████████████████████████████████████████████████████████████████████████████████████████████████| 3007/3007 [01:50<00:00, 27.12it/s]\n"
     ]
    },
    {
     "name": "stdout",
     "output_type": "stream",
     "text": [
      "1.6700716018676758 1.6700716018676758\n",
      "CHECKPOINT ACTIVATED\n",
      "SAVE MODEL PATH: ./DATOS_KAGGLE\\checkpoint.pt\n",
      "Train Epoch: 0 [21042/48103 (100%)]\tLoss: 1.670072\n",
      "Precision: 39.75 %\n"
     ]
    },
    {
     "name": "stderr",
     "output_type": "stream",
     "text": [
      "100%|███████████████████████████████████████████████████████████████████████████████████████████████████████████| 3007/3007 [01:49<00:00, 27.43it/s]\n"
     ]
    },
    {
     "name": "stdout",
     "output_type": "stream",
     "text": [
      "1.8865675926208496 1.6700716018676758\n",
      "Train Epoch: 1 [21042/48103 (100%)]\tLoss: 1.886568\n",
      "Precision: 41.27 %\n"
     ]
    },
    {
     "name": "stderr",
     "output_type": "stream",
     "text": [
      "100%|███████████████████████████████████████████████████████████████████████████████████████████████████████████| 3007/3007 [01:51<00:00, 26.97it/s]\n"
     ]
    },
    {
     "name": "stdout",
     "output_type": "stream",
     "text": [
      "1.3628129959106445 1.3628129959106445\n",
      "CHECKPOINT ACTIVATED\n",
      "SAVE MODEL PATH: ./DATOS_KAGGLE\\checkpoint.pt\n",
      "Train Epoch: 2 [21042/48103 (100%)]\tLoss: 1.362813\n",
      "Precision: 42.12 %\n"
     ]
    },
    {
     "name": "stderr",
     "output_type": "stream",
     "text": [
      "100%|███████████████████████████████████████████████████████████████████████████████████████████████████████████| 3007/3007 [01:50<00:00, 27.17it/s]\n"
     ]
    },
    {
     "name": "stdout",
     "output_type": "stream",
     "text": [
      "1.430343747138977 1.3628129959106445\n",
      "Train Epoch: 3 [21042/48103 (100%)]\tLoss: 1.430344\n",
      "Precision: 42.74 %\n"
     ]
    },
    {
     "name": "stderr",
     "output_type": "stream",
     "text": [
      "100%|███████████████████████████████████████████████████████████████████████████████████████████████████████████| 3007/3007 [01:49<00:00, 27.36it/s]\n"
     ]
    },
    {
     "name": "stdout",
     "output_type": "stream",
     "text": [
      "1.9052072763442993 1.3628129959106445\n",
      "Train Epoch: 4 [21042/48103 (100%)]\tLoss: 1.905207\n",
      "Precision: 43.35 %\n"
     ]
    },
    {
     "name": "stderr",
     "output_type": "stream",
     "text": [
      "100%|███████████████████████████████████████████████████████████████████████████████████████████████████████████| 3007/3007 [01:51<00:00, 27.09it/s]\n"
     ]
    },
    {
     "name": "stdout",
     "output_type": "stream",
     "text": [
      "1.6170759201049805 1.3628129959106445\n",
      "Train Epoch: 5 [21042/48103 (100%)]\tLoss: 1.617076\n",
      "Precision: 44.65 %\n"
     ]
    },
    {
     "name": "stderr",
     "output_type": "stream",
     "text": [
      "100%|███████████████████████████████████████████████████████████████████████████████████████████████████████████| 3007/3007 [01:50<00:00, 27.32it/s]\n"
     ]
    },
    {
     "name": "stdout",
     "output_type": "stream",
     "text": [
      "1.5808392763137817 1.3628129959106445\n",
      "Train Epoch: 6 [21042/48103 (100%)]\tLoss: 1.580839\n",
      "Precision: 44.99 %\n"
     ]
    },
    {
     "name": "stderr",
     "output_type": "stream",
     "text": [
      "100%|███████████████████████████████████████████████████████████████████████████████████████████████████████████| 3007/3007 [01:50<00:00, 27.29it/s]\n"
     ]
    },
    {
     "name": "stdout",
     "output_type": "stream",
     "text": [
      "1.687166452407837 1.3628129959106445\n",
      "Train Epoch: 7 [21042/48103 (100%)]\tLoss: 1.687166\n",
      "Precision: 45.88 %\n"
     ]
    },
    {
     "name": "stderr",
     "output_type": "stream",
     "text": [
      "100%|███████████████████████████████████████████████████████████████████████████████████████████████████████████| 3007/3007 [01:50<00:00, 27.24it/s]\n"
     ]
    },
    {
     "name": "stdout",
     "output_type": "stream",
     "text": [
      "1.9831483364105225 1.3628129959106445\n",
      "Train Epoch: 8 [21042/48103 (100%)]\tLoss: 1.983148\n",
      "Precision: 47.02 %\n"
     ]
    },
    {
     "name": "stderr",
     "output_type": "stream",
     "text": [
      "100%|███████████████████████████████████████████████████████████████████████████████████████████████████████████| 3007/3007 [01:49<00:00, 27.52it/s]\n"
     ]
    },
    {
     "name": "stdout",
     "output_type": "stream",
     "text": [
      "1.7525970935821533 1.3628129959106445\n",
      "Train Epoch: 9 [21042/48103 (100%)]\tLoss: 1.752597\n",
      "Precision: 47.44 %\n"
     ]
    },
    {
     "name": "stderr",
     "output_type": "stream",
     "text": [
      "100%|███████████████████████████████████████████████████████████████████████████████████████████████████████████| 3007/3007 [01:49<00:00, 27.52it/s]\n"
     ]
    },
    {
     "name": "stdout",
     "output_type": "stream",
     "text": [
      "1.7259790897369385 1.3628129959106445\n",
      "Train Epoch: 10 [21042/48103 (100%)]\tLoss: 1.725979\n",
      "Precision: 48.37 %\n"
     ]
    },
    {
     "name": "stderr",
     "output_type": "stream",
     "text": [
      "100%|███████████████████████████████████████████████████████████████████████████████████████████████████████████| 3007/3007 [01:48<00:00, 27.76it/s]\n"
     ]
    },
    {
     "name": "stdout",
     "output_type": "stream",
     "text": [
      "1.8252605199813843 1.3628129959106445\n",
      "Train Epoch: 11 [21042/48103 (100%)]\tLoss: 1.825261\n",
      "Precision: 49.12 %\n"
     ]
    },
    {
     "name": "stderr",
     "output_type": "stream",
     "text": [
      "100%|███████████████████████████████████████████████████████████████████████████████████████████████████████████| 3007/3007 [01:48<00:00, 27.61it/s]\n"
     ]
    },
    {
     "name": "stdout",
     "output_type": "stream",
     "text": [
      "1.3513864278793335 1.3513864278793335\n",
      "CHECKPOINT ACTIVATED\n",
      "SAVE MODEL PATH: ./DATOS_KAGGLE\\checkpoint.pt\n",
      "Train Epoch: 12 [21042/48103 (100%)]\tLoss: 1.351386\n",
      "Precision: 50.12 %\n"
     ]
    },
    {
     "name": "stderr",
     "output_type": "stream",
     "text": [
      "100%|███████████████████████████████████████████████████████████████████████████████████████████████████████████| 3007/3007 [01:49<00:00, 27.55it/s]\n"
     ]
    },
    {
     "name": "stdout",
     "output_type": "stream",
     "text": [
      "1.5213487148284912 1.3513864278793335\n",
      "Train Epoch: 13 [21042/48103 (100%)]\tLoss: 1.521349\n",
      "Precision: 51.33 %\n"
     ]
    },
    {
     "name": "stderr",
     "output_type": "stream",
     "text": [
      "100%|███████████████████████████████████████████████████████████████████████████████████████████████████████████| 3007/3007 [01:48<00:00, 27.74it/s]\n"
     ]
    },
    {
     "name": "stdout",
     "output_type": "stream",
     "text": [
      "1.4495799541473389 1.3513864278793335\n",
      "Train Epoch: 14 [21042/48103 (100%)]\tLoss: 1.449580\n",
      "Precision: 51.65 %\n"
     ]
    },
    {
     "name": "stderr",
     "output_type": "stream",
     "text": [
      "100%|███████████████████████████████████████████████████████████████████████████████████████████████████████████| 3007/3007 [01:49<00:00, 27.50it/s]\n"
     ]
    },
    {
     "name": "stdout",
     "output_type": "stream",
     "text": [
      "1.3641676902770996 1.3513864278793335\n",
      "Train Epoch: 15 [21042/48103 (100%)]\tLoss: 1.364168\n",
      "Precision: 52.52 %\n"
     ]
    },
    {
     "name": "stderr",
     "output_type": "stream",
     "text": [
      "100%|███████████████████████████████████████████████████████████████████████████████████████████████████████████| 3007/3007 [01:48<00:00, 27.72it/s]\n"
     ]
    },
    {
     "name": "stdout",
     "output_type": "stream",
     "text": [
      "1.6003577709197998 1.3513864278793335\n",
      "Train Epoch: 16 [21042/48103 (100%)]\tLoss: 1.600358\n",
      "Precision: 53.70 %\n"
     ]
    },
    {
     "name": "stderr",
     "output_type": "stream",
     "text": [
      "100%|███████████████████████████████████████████████████████████████████████████████████████████████████████████| 3007/3007 [01:48<00:00, 27.76it/s]\n"
     ]
    },
    {
     "name": "stdout",
     "output_type": "stream",
     "text": [
      "1.4484574794769287 1.3513864278793335\n",
      "Train Epoch: 17 [21042/48103 (100%)]\tLoss: 1.448457\n",
      "Precision: 54.56 %\n"
     ]
    },
    {
     "name": "stderr",
     "output_type": "stream",
     "text": [
      "100%|███████████████████████████████████████████████████████████████████████████████████████████████████████████| 3007/3007 [01:49<00:00, 27.49it/s]\n"
     ]
    },
    {
     "name": "stdout",
     "output_type": "stream",
     "text": [
      "1.8765543699264526 1.3513864278793335\n",
      "Train Epoch: 18 [21042/48103 (100%)]\tLoss: 1.876554\n",
      "Precision: 55.25 %\n"
     ]
    },
    {
     "name": "stderr",
     "output_type": "stream",
     "text": [
      "100%|███████████████████████████████████████████████████████████████████████████████████████████████████████████| 3007/3007 [01:48<00:00, 27.71it/s]\n"
     ]
    },
    {
     "name": "stdout",
     "output_type": "stream",
     "text": [
      "1.564056158065796 1.3513864278793335\n",
      "Train Epoch: 19 [21042/48103 (100%)]\tLoss: 1.564056\n",
      "Precision: 56.49 %\n"
     ]
    },
    {
     "name": "stderr",
     "output_type": "stream",
     "text": [
      "100%|███████████████████████████████████████████████████████████████████████████████████████████████████████████| 3007/3007 [01:48<00:00, 27.80it/s]\n"
     ]
    },
    {
     "name": "stdout",
     "output_type": "stream",
     "text": [
      "1.7046297788619995 1.3513864278793335\n",
      "Train Epoch: 20 [21042/48103 (100%)]\tLoss: 1.704630\n",
      "Precision: 57.69 %\n"
     ]
    },
    {
     "name": "stderr",
     "output_type": "stream",
     "text": [
      "100%|███████████████████████████████████████████████████████████████████████████████████████████████████████████| 3007/3007 [01:48<00:00, 27.74it/s]\n"
     ]
    },
    {
     "name": "stdout",
     "output_type": "stream",
     "text": [
      "1.200791835784912 1.200791835784912\n",
      "CHECKPOINT ACTIVATED\n",
      "SAVE MODEL PATH: ./DATOS_KAGGLE\\checkpoint.pt\n",
      "Train Epoch: 21 [21042/48103 (100%)]\tLoss: 1.200792\n",
      "Precision: 58.80 %\n"
     ]
    },
    {
     "name": "stderr",
     "output_type": "stream",
     "text": [
      "100%|███████████████████████████████████████████████████████████████████████████████████████████████████████████| 3007/3007 [01:49<00:00, 27.46it/s]\n"
     ]
    },
    {
     "name": "stdout",
     "output_type": "stream",
     "text": [
      "1.9073736667633057 1.200791835784912\n",
      "Train Epoch: 22 [21042/48103 (100%)]\tLoss: 1.907374\n",
      "Precision: 59.82 %\n"
     ]
    },
    {
     "name": "stderr",
     "output_type": "stream",
     "text": [
      "100%|███████████████████████████████████████████████████████████████████████████████████████████████████████████| 3007/3007 [01:48<00:00, 27.72it/s]\n"
     ]
    },
    {
     "name": "stdout",
     "output_type": "stream",
     "text": [
      "1.565730333328247 1.200791835784912\n",
      "Train Epoch: 23 [21042/48103 (100%)]\tLoss: 1.565730\n",
      "Precision: 60.62 %\n"
     ]
    },
    {
     "name": "stderr",
     "output_type": "stream",
     "text": [
      "100%|███████████████████████████████████████████████████████████████████████████████████████████████████████████| 3007/3007 [01:48<00:00, 27.65it/s]\n"
     ]
    },
    {
     "name": "stdout",
     "output_type": "stream",
     "text": [
      "1.19327974319458 1.19327974319458\n",
      "CHECKPOINT ACTIVATED\n",
      "SAVE MODEL PATH: ./DATOS_KAGGLE\\checkpoint.pt\n",
      "Train Epoch: 24 [21042/48103 (100%)]\tLoss: 1.193280\n",
      "Precision: 61.45 %\n"
     ]
    },
    {
     "name": "stderr",
     "output_type": "stream",
     "text": [
      "100%|███████████████████████████████████████████████████████████████████████████████████████████████████████████| 3007/3007 [01:49<00:00, 27.50it/s]\n"
     ]
    },
    {
     "name": "stdout",
     "output_type": "stream",
     "text": [
      "1.7375974655151367 1.19327974319458\n",
      "Train Epoch: 25 [21042/48103 (100%)]\tLoss: 1.737597\n",
      "Precision: 62.38 %\n"
     ]
    },
    {
     "name": "stderr",
     "output_type": "stream",
     "text": [
      "100%|███████████████████████████████████████████████████████████████████████████████████████████████████████████| 3007/3007 [01:47<00:00, 27.88it/s]\n"
     ]
    },
    {
     "name": "stdout",
     "output_type": "stream",
     "text": [
      "1.3411495685577393 1.19327974319458\n",
      "Train Epoch: 26 [21042/48103 (100%)]\tLoss: 1.341150\n",
      "Precision: 63.50 %\n"
     ]
    },
    {
     "name": "stderr",
     "output_type": "stream",
     "text": [
      "100%|███████████████████████████████████████████████████████████████████████████████████████████████████████████| 3007/3007 [01:47<00:00, 27.84it/s]\n"
     ]
    },
    {
     "name": "stdout",
     "output_type": "stream",
     "text": [
      "1.7517755031585693 1.19327974319458\n",
      "Train Epoch: 27 [21042/48103 (100%)]\tLoss: 1.751776\n",
      "Precision: 64.95 %\n"
     ]
    },
    {
     "name": "stderr",
     "output_type": "stream",
     "text": [
      "100%|███████████████████████████████████████████████████████████████████████████████████████████████████████████| 3007/3007 [01:48<00:00, 27.62it/s]\n"
     ]
    },
    {
     "name": "stdout",
     "output_type": "stream",
     "text": [
      "1.7516628503799438 1.19327974319458\n",
      "Train Epoch: 28 [21042/48103 (100%)]\tLoss: 1.751663\n",
      "Precision: 66.11 %\n"
     ]
    },
    {
     "name": "stderr",
     "output_type": "stream",
     "text": [
      "100%|███████████████████████████████████████████████████████████████████████████████████████████████████████████| 3007/3007 [01:47<00:00, 27.87it/s]\n"
     ]
    },
    {
     "name": "stdout",
     "output_type": "stream",
     "text": [
      "1.2012197971343994 1.19327974319458\n",
      "Train Epoch: 29 [21042/48103 (100%)]\tLoss: 1.201220\n",
      "Precision: 67.17 %\n"
     ]
    },
    {
     "name": "stderr",
     "output_type": "stream",
     "text": [
      "100%|███████████████████████████████████████████████████████████████████████████████████████████████████████████| 3007/3007 [01:48<00:00, 27.83it/s]\n"
     ]
    },
    {
     "name": "stdout",
     "output_type": "stream",
     "text": [
      "1.1813009977340698 1.1813009977340698\n",
      "CHECKPOINT ACTIVATED\n",
      "SAVE MODEL PATH: ./DATOS_KAGGLE\\checkpoint.pt\n",
      "Train Epoch: 30 [21042/48103 (100%)]\tLoss: 1.181301\n",
      "Precision: 67.80 %\n"
     ]
    },
    {
     "name": "stderr",
     "output_type": "stream",
     "text": [
      "100%|███████████████████████████████████████████████████████████████████████████████████████████████████████████| 3007/3007 [01:49<00:00, 27.49it/s]\n"
     ]
    },
    {
     "name": "stdout",
     "output_type": "stream",
     "text": [
      "1.3287299871444702 1.1813009977340698\n",
      "Train Epoch: 31 [21042/48103 (100%)]\tLoss: 1.328730\n",
      "Precision: 69.23 %\n"
     ]
    },
    {
     "name": "stderr",
     "output_type": "stream",
     "text": [
      "100%|███████████████████████████████████████████████████████████████████████████████████████████████████████████| 3007/3007 [01:47<00:00, 27.88it/s]\n"
     ]
    },
    {
     "name": "stdout",
     "output_type": "stream",
     "text": [
      "1.3000048398971558 1.1813009977340698\n",
      "Train Epoch: 32 [21042/48103 (100%)]\tLoss: 1.300005\n",
      "Precision: 70.28 %\n"
     ]
    },
    {
     "name": "stderr",
     "output_type": "stream",
     "text": [
      "100%|███████████████████████████████████████████████████████████████████████████████████████████████████████████| 3007/3007 [01:48<00:00, 27.81it/s]\n"
     ]
    },
    {
     "name": "stdout",
     "output_type": "stream",
     "text": [
      "1.788161277770996 1.1813009977340698\n",
      "Train Epoch: 33 [21042/48103 (100%)]\tLoss: 1.788161\n",
      "Precision: 71.13 %\n"
     ]
    },
    {
     "name": "stderr",
     "output_type": "stream",
     "text": [
      "100%|███████████████████████████████████████████████████████████████████████████████████████████████████████████| 3007/3007 [01:47<00:00, 27.90it/s]\n"
     ]
    },
    {
     "name": "stdout",
     "output_type": "stream",
     "text": [
      "1.4675664901733398 1.1813009977340698\n",
      "Train Epoch: 34 [21042/48103 (100%)]\tLoss: 1.467566\n",
      "Precision: 72.25 %\n"
     ]
    },
    {
     "name": "stderr",
     "output_type": "stream",
     "text": [
      "100%|███████████████████████████████████████████████████████████████████████████████████████████████████████████| 3007/3007 [01:49<00:00, 27.51it/s]\n"
     ]
    },
    {
     "name": "stdout",
     "output_type": "stream",
     "text": [
      "1.3437309265136719 1.1813009977340698\n",
      "Train Epoch: 35 [21042/48103 (100%)]\tLoss: 1.343731\n",
      "Precision: 72.71 %\n"
     ]
    },
    {
     "name": "stderr",
     "output_type": "stream",
     "text": [
      "100%|███████████████████████████████████████████████████████████████████████████████████████████████████████████| 3007/3007 [01:47<00:00, 27.91it/s]\n"
     ]
    },
    {
     "name": "stdout",
     "output_type": "stream",
     "text": [
      "1.187402606010437 1.1813009977340698\n",
      "Train Epoch: 36 [21042/48103 (100%)]\tLoss: 1.187403\n",
      "Precision: 74.18 %\n"
     ]
    },
    {
     "name": "stderr",
     "output_type": "stream",
     "text": [
      "100%|███████████████████████████████████████████████████████████████████████████████████████████████████████████| 3007/3007 [01:47<00:00, 28.00it/s]\n"
     ]
    },
    {
     "name": "stdout",
     "output_type": "stream",
     "text": [
      "1.180526852607727 1.180526852607727\n",
      "CHECKPOINT ACTIVATED\n",
      "SAVE MODEL PATH: ./DATOS_KAGGLE\\checkpoint.pt\n",
      "Train Epoch: 37 [21042/48103 (100%)]\tLoss: 1.180527\n",
      "Precision: 74.75 %\n"
     ]
    },
    {
     "name": "stderr",
     "output_type": "stream",
     "text": [
      "100%|███████████████████████████████████████████████████████████████████████████████████████████████████████████| 3007/3007 [01:49<00:00, 27.53it/s]\n"
     ]
    },
    {
     "name": "stdout",
     "output_type": "stream",
     "text": [
      "1.5046876668930054 1.180526852607727\n",
      "Train Epoch: 38 [21042/48103 (100%)]\tLoss: 1.504688\n",
      "Precision: 75.74 %\n"
     ]
    },
    {
     "name": "stderr",
     "output_type": "stream",
     "text": [
      "100%|███████████████████████████████████████████████████████████████████████████████████████████████████████████| 3007/3007 [01:47<00:00, 27.90it/s]\n"
     ]
    },
    {
     "name": "stdout",
     "output_type": "stream",
     "text": [
      "1.1857507228851318 1.180526852607727\n",
      "Train Epoch: 39 [21042/48103 (100%)]\tLoss: 1.185751\n",
      "Precision: 77.15 %\n"
     ]
    },
    {
     "name": "stderr",
     "output_type": "stream",
     "text": [
      "100%|███████████████████████████████████████████████████████████████████████████████████████████████████████████| 3007/3007 [01:47<00:00, 27.88it/s]\n"
     ]
    },
    {
     "name": "stdout",
     "output_type": "stream",
     "text": [
      "1.4718706607818604 1.180526852607727\n",
      "Train Epoch: 40 [21042/48103 (100%)]\tLoss: 1.471871\n",
      "Precision: 77.70 %\n"
     ]
    },
    {
     "name": "stderr",
     "output_type": "stream",
     "text": [
      "100%|███████████████████████████████████████████████████████████████████████████████████████████████████████████| 3007/3007 [01:49<00:00, 27.55it/s]\n"
     ]
    },
    {
     "name": "stdout",
     "output_type": "stream",
     "text": [
      "1.1863542795181274 1.180526852607727\n",
      "Train Epoch: 41 [21042/48103 (100%)]\tLoss: 1.186354\n",
      "Precision: 78.43 %\n"
     ]
    },
    {
     "name": "stderr",
     "output_type": "stream",
     "text": [
      "100%|███████████████████████████████████████████████████████████████████████████████████████████████████████████| 3007/3007 [01:48<00:00, 27.84it/s]\n"
     ]
    },
    {
     "name": "stdout",
     "output_type": "stream",
     "text": [
      "1.2043001651763916 1.180526852607727\n",
      "Train Epoch: 42 [21042/48103 (100%)]\tLoss: 1.204300\n",
      "Precision: 79.01 %\n"
     ]
    },
    {
     "name": "stderr",
     "output_type": "stream",
     "text": [
      "100%|███████████████████████████████████████████████████████████████████████████████████████████████████████████| 3007/3007 [01:48<00:00, 27.81it/s]\n"
     ]
    },
    {
     "name": "stdout",
     "output_type": "stream",
     "text": [
      "1.3285093307495117 1.180526852607727\n",
      "Train Epoch: 43 [21042/48103 (100%)]\tLoss: 1.328509\n",
      "Precision: 79.90 %\n"
     ]
    },
    {
     "name": "stderr",
     "output_type": "stream",
     "text": [
      "100%|███████████████████████████████████████████████████████████████████████████████████████████████████████████| 3007/3007 [01:47<00:00, 27.93it/s]\n"
     ]
    },
    {
     "name": "stdout",
     "output_type": "stream",
     "text": [
      "1.044335961341858 1.044335961341858\n",
      "CHECKPOINT ACTIVATED\n",
      "SAVE MODEL PATH: ./DATOS_KAGGLE\\checkpoint.pt\n",
      "Train Epoch: 44 [21042/48103 (100%)]\tLoss: 1.044336\n",
      "Precision: 80.87 %\n"
     ]
    },
    {
     "name": "stderr",
     "output_type": "stream",
     "text": [
      "100%|███████████████████████████████████████████████████████████████████████████████████████████████████████████| 3007/3007 [01:49<00:00, 27.47it/s]\n"
     ]
    },
    {
     "name": "stdout",
     "output_type": "stream",
     "text": [
      "1.3293108940124512 1.044335961341858\n",
      "Train Epoch: 45 [21042/48103 (100%)]\tLoss: 1.329311\n",
      "Precision: 81.49 %\n"
     ]
    },
    {
     "name": "stderr",
     "output_type": "stream",
     "text": [
      "100%|███████████████████████████████████████████████████████████████████████████████████████████████████████████| 3007/3007 [01:47<00:00, 27.88it/s]\n"
     ]
    },
    {
     "name": "stdout",
     "output_type": "stream",
     "text": [
      "1.472161054611206 1.044335961341858\n",
      "Train Epoch: 46 [21042/48103 (100%)]\tLoss: 1.472161\n",
      "Precision: 82.28 %\n"
     ]
    },
    {
     "name": "stderr",
     "output_type": "stream",
     "text": [
      "100%|███████████████████████████████████████████████████████████████████████████████████████████████████████████| 3007/3007 [01:47<00:00, 27.91it/s]\n"
     ]
    },
    {
     "name": "stdout",
     "output_type": "stream",
     "text": [
      "1.4705835580825806 1.044335961341858\n",
      "Train Epoch: 47 [21042/48103 (100%)]\tLoss: 1.470584\n",
      "Precision: 82.84 %\n"
     ]
    },
    {
     "name": "stderr",
     "output_type": "stream",
     "text": [
      "100%|███████████████████████████████████████████████████████████████████████████████████████████████████████████| 3007/3007 [01:48<00:00, 27.67it/s]\n"
     ]
    },
    {
     "name": "stdout",
     "output_type": "stream",
     "text": [
      "1.468162178993225 1.044335961341858\n",
      "Train Epoch: 48 [21042/48103 (100%)]\tLoss: 1.468162\n",
      "Precision: 83.26 %\n"
     ]
    },
    {
     "name": "stderr",
     "output_type": "stream",
     "text": [
      "100%|███████████████████████████████████████████████████████████████████████████████████████████████████████████| 3007/3007 [01:47<00:00, 28.03it/s]\n"
     ]
    },
    {
     "name": "stdout",
     "output_type": "stream",
     "text": [
      "1.438694715499878 1.044335961341858\n",
      "Train Epoch: 49 [21042/48103 (100%)]\tLoss: 1.438695\n",
      "Precision: 84.07 %\n"
     ]
    },
    {
     "name": "stderr",
     "output_type": "stream",
     "text": [
      "100%|███████████████████████████████████████████████████████████████████████████████████████████████████████████| 3007/3007 [01:48<00:00, 27.63it/s]\n"
     ]
    },
    {
     "name": "stdout",
     "output_type": "stream",
     "text": [
      "1.1066023111343384 1.044335961341858\n",
      "Train Epoch: 50 [21042/48103 (100%)]\tLoss: 1.106602\n",
      "Precision: 84.65 %\n"
     ]
    },
    {
     "name": "stderr",
     "output_type": "stream",
     "text": [
      "100%|███████████████████████████████████████████████████████████████████████████████████████████████████████████| 3007/3007 [01:50<00:00, 27.27it/s]\n"
     ]
    },
    {
     "name": "stdout",
     "output_type": "stream",
     "text": [
      "1.3393598794937134 1.044335961341858\n",
      "Train Epoch: 51 [21042/48103 (100%)]\tLoss: 1.339360\n",
      "Precision: 85.15 %\n"
     ]
    },
    {
     "name": "stderr",
     "output_type": "stream",
     "text": [
      "100%|███████████████████████████████████████████████████████████████████████████████████████████████████████████| 3007/3007 [01:49<00:00, 27.58it/s]\n"
     ]
    },
    {
     "name": "stdout",
     "output_type": "stream",
     "text": [
      "1.242775797843933 1.044335961341858\n",
      "Train Epoch: 52 [21042/48103 (100%)]\tLoss: 1.242776\n",
      "Precision: 85.56 %\n"
     ]
    },
    {
     "name": "stderr",
     "output_type": "stream",
     "text": [
      "100%|███████████████████████████████████████████████████████████████████████████████████████████████████████████| 3007/3007 [01:47<00:00, 27.94it/s]\n"
     ]
    },
    {
     "name": "stdout",
     "output_type": "stream",
     "text": [
      "1.4186598062515259 1.044335961341858\n",
      "Train Epoch: 53 [21042/48103 (100%)]\tLoss: 1.418660\n",
      "Precision: 85.71 %\n"
     ]
    },
    {
     "name": "stderr",
     "output_type": "stream",
     "text": [
      "100%|███████████████████████████████████████████████████████████████████████████████████████████████████████████| 3007/3007 [01:54<00:00, 26.28it/s]\n"
     ]
    },
    {
     "name": "stdout",
     "output_type": "stream",
     "text": [
      "1.2352019548416138 1.044335961341858\n",
      "Train Epoch: 54 [21042/48103 (100%)]\tLoss: 1.235202\n",
      "Precision: 86.63 %\n"
     ]
    },
    {
     "name": "stderr",
     "output_type": "stream",
     "text": [
      "100%|███████████████████████████████████████████████████████████████████████████████████████████████████████████| 3007/3007 [01:50<00:00, 27.22it/s]\n"
     ]
    },
    {
     "name": "stdout",
     "output_type": "stream",
     "text": [
      "1.096637487411499 1.044335961341858\n",
      "Train Epoch: 55 [21042/48103 (100%)]\tLoss: 1.096637\n",
      "Precision: 87.26 %\n"
     ]
    },
    {
     "name": "stderr",
     "output_type": "stream",
     "text": [
      "100%|███████████████████████████████████████████████████████████████████████████████████████████████████████████| 3007/3007 [01:53<00:00, 26.51it/s]\n"
     ]
    },
    {
     "name": "stdout",
     "output_type": "stream",
     "text": [
      "1.750494122505188 1.044335961341858\n",
      "Train Epoch: 56 [21042/48103 (100%)]\tLoss: 1.750494\n",
      "Precision: 87.63 %\n"
     ]
    },
    {
     "name": "stderr",
     "output_type": "stream",
     "text": [
      "100%|███████████████████████████████████████████████████████████████████████████████████████████████████████████| 3007/3007 [01:50<00:00, 27.12it/s]\n"
     ]
    },
    {
     "name": "stdout",
     "output_type": "stream",
     "text": [
      "1.3292661905288696 1.044335961341858\n",
      "Train Epoch: 57 [21042/48103 (100%)]\tLoss: 1.329266\n",
      "Precision: 88.12 %\n"
     ]
    },
    {
     "name": "stderr",
     "output_type": "stream",
     "text": [
      "100%|███████████████████████████████████████████████████████████████████████████████████████████████████████████| 3007/3007 [01:51<00:00, 26.90it/s]\n"
     ]
    },
    {
     "name": "stdout",
     "output_type": "stream",
     "text": [
      "1.043760061264038 1.043760061264038\n",
      "CHECKPOINT ACTIVATED\n",
      "SAVE MODEL PATH: ./DATOS_KAGGLE\\checkpoint.pt\n",
      "Train Epoch: 58 [21042/48103 (100%)]\tLoss: 1.043760\n",
      "Precision: 88.91 %\n"
     ]
    },
    {
     "name": "stderr",
     "output_type": "stream",
     "text": [
      "100%|███████████████████████████████████████████████████████████████████████████████████████████████████████████| 3007/3007 [01:55<00:00, 26.01it/s]\n"
     ]
    },
    {
     "name": "stdout",
     "output_type": "stream",
     "text": [
      "1.0436711311340332 1.0436711311340332\n",
      "CHECKPOINT ACTIVATED\n",
      "SAVE MODEL PATH: ./DATOS_KAGGLE\\checkpoint.pt\n",
      "Train Epoch: 59 [21042/48103 (100%)]\tLoss: 1.043671\n",
      "Precision: 89.50 %\n"
     ]
    },
    {
     "name": "stderr",
     "output_type": "stream",
     "text": [
      "100%|███████████████████████████████████████████████████████████████████████████████████████████████████████████| 3007/3007 [02:00<00:00, 24.86it/s]\n"
     ]
    },
    {
     "name": "stdout",
     "output_type": "stream",
     "text": [
      "1.184970736503601 1.0436711311340332\n",
      "Train Epoch: 60 [21042/48103 (100%)]\tLoss: 1.184971\n",
      "Precision: 89.64 %\n"
     ]
    },
    {
     "name": "stderr",
     "output_type": "stream",
     "text": [
      "100%|███████████████████████████████████████████████████████████████████████████████████████████████████████████| 3007/3007 [02:03<00:00, 24.25it/s]\n"
     ]
    },
    {
     "name": "stdout",
     "output_type": "stream",
     "text": [
      "1.41537344455719 1.0436711311340332\n",
      "Train Epoch: 61 [21042/48103 (100%)]\tLoss: 1.415373\n",
      "Precision: 89.82 %\n"
     ]
    },
    {
     "name": "stderr",
     "output_type": "stream",
     "text": [
      "100%|███████████████████████████████████████████████████████████████████████████████████████████████████████████| 3007/3007 [01:58<00:00, 25.42it/s]\n"
     ]
    },
    {
     "name": "stdout",
     "output_type": "stream",
     "text": [
      "1.1858172416687012 1.0436711311340332\n",
      "Train Epoch: 62 [21042/48103 (100%)]\tLoss: 1.185817\n",
      "Precision: 90.18 %\n"
     ]
    },
    {
     "name": "stderr",
     "output_type": "stream",
     "text": [
      "100%|███████████████████████████████████████████████████████████████████████████████████████████████████████████| 3007/3007 [01:53<00:00, 26.54it/s]\n"
     ]
    },
    {
     "name": "stdout",
     "output_type": "stream",
     "text": [
      "1.3234950304031372 1.0436711311340332\n",
      "Train Epoch: 63 [21042/48103 (100%)]\tLoss: 1.323495\n",
      "Precision: 90.91 %\n"
     ]
    },
    {
     "name": "stderr",
     "output_type": "stream",
     "text": [
      "100%|███████████████████████████████████████████████████████████████████████████████████████████████████████████| 3007/3007 [01:57<00:00, 25.66it/s]\n"
     ]
    },
    {
     "name": "stdout",
     "output_type": "stream",
     "text": [
      "1.1864492893218994 1.0436711311340332\n",
      "Train Epoch: 64 [21042/48103 (100%)]\tLoss: 1.186449\n",
      "Precision: 91.24 %\n"
     ]
    },
    {
     "name": "stderr",
     "output_type": "stream",
     "text": [
      "100%|███████████████████████████████████████████████████████████████████████████████████████████████████████████| 3007/3007 [02:01<00:00, 24.68it/s]\n"
     ]
    },
    {
     "name": "stdout",
     "output_type": "stream",
     "text": [
      "1.1154237985610962 1.0436711311340332\n",
      "Train Epoch: 65 [21042/48103 (100%)]\tLoss: 1.115424\n",
      "Precision: 91.48 %\n"
     ]
    },
    {
     "name": "stderr",
     "output_type": "stream",
     "text": [
      "100%|███████████████████████████████████████████████████████████████████████████████████████████████████████████| 3007/3007 [01:57<00:00, 25.55it/s]\n"
     ]
    },
    {
     "name": "stdout",
     "output_type": "stream",
     "text": [
      "1.1853432655334473 1.0436711311340332\n",
      "Train Epoch: 66 [21042/48103 (100%)]\tLoss: 1.185343\n",
      "Precision: 91.62 %\n"
     ]
    },
    {
     "name": "stderr",
     "output_type": "stream",
     "text": [
      "100%|███████████████████████████████████████████████████████████████████████████████████████████████████████████| 3007/3007 [01:57<00:00, 25.51it/s]\n"
     ]
    },
    {
     "name": "stdout",
     "output_type": "stream",
     "text": [
      "1.043605923652649 1.043605923652649\n",
      "CHECKPOINT ACTIVATED\n",
      "SAVE MODEL PATH: ./DATOS_KAGGLE\\checkpoint.pt\n",
      "Train Epoch: 67 [21042/48103 (100%)]\tLoss: 1.043606\n",
      "Precision: 91.71 %\n"
     ]
    },
    {
     "name": "stderr",
     "output_type": "stream",
     "text": [
      "100%|███████████████████████████████████████████████████████████████████████████████████████████████████████████| 3007/3007 [01:54<00:00, 26.27it/s]\n"
     ]
    },
    {
     "name": "stdout",
     "output_type": "stream",
     "text": [
      "1.3363457918167114 1.043605923652649\n",
      "Train Epoch: 68 [21042/48103 (100%)]\tLoss: 1.336346\n",
      "Precision: 92.31 %\n"
     ]
    },
    {
     "name": "stderr",
     "output_type": "stream",
     "text": [
      "100%|███████████████████████████████████████████████████████████████████████████████████████████████████████████| 3007/3007 [01:50<00:00, 27.22it/s]\n"
     ]
    },
    {
     "name": "stdout",
     "output_type": "stream",
     "text": [
      "1.0643103122711182 1.043605923652649\n",
      "Train Epoch: 69 [21042/48103 (100%)]\tLoss: 1.064310\n",
      "Precision: 92.59 %\n"
     ]
    },
    {
     "name": "stderr",
     "output_type": "stream",
     "text": [
      "100%|███████████████████████████████████████████████████████████████████████████████████████████████████████████| 3007/3007 [01:49<00:00, 27.37it/s]\n"
     ]
    },
    {
     "name": "stdout",
     "output_type": "stream",
     "text": [
      "1.2715784311294556 1.043605923652649\n",
      "Train Epoch: 70 [21042/48103 (100%)]\tLoss: 1.271578\n",
      "Precision: 92.71 %\n"
     ]
    },
    {
     "name": "stderr",
     "output_type": "stream",
     "text": [
      "100%|███████████████████████████████████████████████████████████████████████████████████████████████████████████| 3007/3007 [01:50<00:00, 27.23it/s]\n"
     ]
    },
    {
     "name": "stdout",
     "output_type": "stream",
     "text": [
      "1.1257697343826294 1.043605923652649\n",
      "Train Epoch: 71 [21042/48103 (100%)]\tLoss: 1.125770\n",
      "Precision: 93.10 %\n"
     ]
    },
    {
     "name": "stderr",
     "output_type": "stream",
     "text": [
      "100%|███████████████████████████████████████████████████████████████████████████████████████████████████████████| 3007/3007 [01:56<00:00, 25.73it/s]\n"
     ]
    },
    {
     "name": "stdout",
     "output_type": "stream",
     "text": [
      "1.4718502759933472 1.043605923652649\n",
      "Train Epoch: 72 [21042/48103 (100%)]\tLoss: 1.471850\n",
      "Precision: 93.01 %\n"
     ]
    },
    {
     "name": "stderr",
     "output_type": "stream",
     "text": [
      "100%|███████████████████████████████████████████████████████████████████████████████████████████████████████████| 3007/3007 [01:58<00:00, 25.30it/s]\n"
     ]
    },
    {
     "name": "stdout",
     "output_type": "stream",
     "text": [
      "1.3467321395874023 1.043605923652649\n",
      "Train Epoch: 73 [21042/48103 (100%)]\tLoss: 1.346732\n",
      "Precision: 93.42 %\n"
     ]
    },
    {
     "name": "stderr",
     "output_type": "stream",
     "text": [
      "100%|███████████████████████████████████████████████████████████████████████████████████████████████████████████| 3007/3007 [01:56<00:00, 25.83it/s]\n"
     ]
    },
    {
     "name": "stdout",
     "output_type": "stream",
     "text": [
      "1.4887765645980835 1.043605923652649\n",
      "Train Epoch: 74 [21042/48103 (100%)]\tLoss: 1.488777\n",
      "Precision: 93.87 %\n"
     ]
    },
    {
     "name": "stderr",
     "output_type": "stream",
     "text": [
      "100%|███████████████████████████████████████████████████████████████████████████████████████████████████████████| 3007/3007 [01:50<00:00, 27.21it/s]\n"
     ]
    },
    {
     "name": "stdout",
     "output_type": "stream",
     "text": [
      "1.0480390787124634 1.043605923652649\n",
      "Train Epoch: 75 [21042/48103 (100%)]\tLoss: 1.048039\n",
      "Precision: 94.16 %\n"
     ]
    },
    {
     "name": "stderr",
     "output_type": "stream",
     "text": [
      "100%|███████████████████████████████████████████████████████████████████████████████████████████████████████████| 3007/3007 [01:49<00:00, 27.45it/s]\n"
     ]
    },
    {
     "name": "stdout",
     "output_type": "stream",
     "text": [
      "1.31658136844635 1.043605923652649\n",
      "Train Epoch: 76 [21042/48103 (100%)]\tLoss: 1.316581\n",
      "Precision: 94.11 %\n"
     ]
    },
    {
     "name": "stderr",
     "output_type": "stream",
     "text": [
      "100%|███████████████████████████████████████████████████████████████████████████████████████████████████████████| 3007/3007 [01:49<00:00, 27.47it/s]\n"
     ]
    },
    {
     "name": "stdout",
     "output_type": "stream",
     "text": [
      "1.0818907022476196 1.043605923652649\n",
      "Train Epoch: 77 [21042/48103 (100%)]\tLoss: 1.081891\n",
      "Precision: 94.46 %\n"
     ]
    },
    {
     "name": "stderr",
     "output_type": "stream",
     "text": [
      "100%|███████████████████████████████████████████████████████████████████████████████████████████████████████████| 3007/3007 [01:51<00:00, 26.91it/s]\n"
     ]
    },
    {
     "name": "stdout",
     "output_type": "stream",
     "text": [
      "1.043592095375061 1.043592095375061\n",
      "CHECKPOINT ACTIVATED\n",
      "SAVE MODEL PATH: ./DATOS_KAGGLE\\checkpoint.pt\n",
      "Train Epoch: 78 [21042/48103 (100%)]\tLoss: 1.043592\n",
      "Precision: 94.69 %\n"
     ]
    },
    {
     "name": "stderr",
     "output_type": "stream",
     "text": [
      "100%|███████████████████████████████████████████████████████████████████████████████████████████████████████████| 3007/3007 [01:51<00:00, 26.92it/s]\n"
     ]
    },
    {
     "name": "stdout",
     "output_type": "stream",
     "text": [
      "1.043591856956482 1.043591856956482\n",
      "CHECKPOINT ACTIVATED\n",
      "SAVE MODEL PATH: ./DATOS_KAGGLE\\checkpoint.pt\n",
      "Train Epoch: 79 [21042/48103 (100%)]\tLoss: 1.043592\n",
      "Precision: 94.67 %\n"
     ]
    },
    {
     "name": "stderr",
     "output_type": "stream",
     "text": [
      "100%|███████████████████████████████████████████████████████████████████████████████████████████████████████████| 3007/3007 [01:49<00:00, 27.45it/s]\n"
     ]
    },
    {
     "name": "stdout",
     "output_type": "stream",
     "text": [
      "1.0435924530029297 1.043591856956482\n",
      "Train Epoch: 80 [21042/48103 (100%)]\tLoss: 1.043592\n",
      "Precision: 95.05 %\n"
     ]
    },
    {
     "name": "stderr",
     "output_type": "stream",
     "text": [
      "100%|███████████████████████████████████████████████████████████████████████████████████████████████████████████| 3007/3007 [01:47<00:00, 27.92it/s]\n"
     ]
    },
    {
     "name": "stdout",
     "output_type": "stream",
     "text": [
      "1.2036573886871338 1.043591856956482\n",
      "Train Epoch: 81 [21042/48103 (100%)]\tLoss: 1.203657\n",
      "Precision: 95.30 %\n"
     ]
    },
    {
     "name": "stderr",
     "output_type": "stream",
     "text": [
      "100%|███████████████████████████████████████████████████████████████████████████████████████████████████████████| 3007/3007 [01:47<00:00, 28.00it/s]\n"
     ]
    },
    {
     "name": "stdout",
     "output_type": "stream",
     "text": [
      "1.0436341762542725 1.043591856956482\n",
      "Train Epoch: 82 [21042/48103 (100%)]\tLoss: 1.043634\n",
      "Precision: 95.31 %\n"
     ]
    },
    {
     "name": "stderr",
     "output_type": "stream",
     "text": [
      "100%|███████████████████████████████████████████████████████████████████████████████████████████████████████████| 3007/3007 [01:48<00:00, 27.82it/s]\n"
     ]
    },
    {
     "name": "stdout",
     "output_type": "stream",
     "text": [
      "1.3198297023773193 1.043591856956482\n",
      "Train Epoch: 83 [21042/48103 (100%)]\tLoss: 1.319830\n",
      "Precision: 95.50 %\n"
     ]
    },
    {
     "name": "stderr",
     "output_type": "stream",
     "text": [
      "100%|███████████████████████████████████████████████████████████████████████████████████████████████████████████| 3007/3007 [01:47<00:00, 27.86it/s]\n"
     ]
    },
    {
     "name": "stdout",
     "output_type": "stream",
     "text": [
      "1.0436238050460815 1.043591856956482\n",
      "Train Epoch: 84 [21042/48103 (100%)]\tLoss: 1.043624\n",
      "Precision: 95.62 %\n"
     ]
    },
    {
     "name": "stderr",
     "output_type": "stream",
     "text": [
      "100%|███████████████████████████████████████████████████████████████████████████████████████████████████████████| 3007/3007 [01:47<00:00, 28.06it/s]\n"
     ]
    },
    {
     "name": "stdout",
     "output_type": "stream",
     "text": [
      "1.0469048023223877 1.043591856956482\n",
      "Train Epoch: 85 [21042/48103 (100%)]\tLoss: 1.046905\n",
      "Precision: 95.62 %\n"
     ]
    },
    {
     "name": "stderr",
     "output_type": "stream",
     "text": [
      "100%|███████████████████████████████████████████████████████████████████████████████████████████████████████████| 3007/3007 [01:47<00:00, 28.00it/s]\n"
     ]
    },
    {
     "name": "stdout",
     "output_type": "stream",
     "text": [
      "1.0454341173171997 1.043591856956482\n",
      "Train Epoch: 86 [21042/48103 (100%)]\tLoss: 1.045434\n",
      "Precision: 95.62 %\n"
     ]
    },
    {
     "name": "stderr",
     "output_type": "stream",
     "text": [
      "100%|███████████████████████████████████████████████████████████████████████████████████████████████████████████| 3007/3007 [01:47<00:00, 27.88it/s]\n"
     ]
    },
    {
     "name": "stdout",
     "output_type": "stream",
     "text": [
      "1.043591856956482 1.043591856956482\n",
      "CHECKPOINT ACTIVATED\n",
      "SAVE MODEL PATH: ./DATOS_KAGGLE\\checkpoint.pt\n",
      "Train Epoch: 87 [21042/48103 (100%)]\tLoss: 1.043592\n",
      "Precision: 95.95 %\n"
     ]
    },
    {
     "name": "stderr",
     "output_type": "stream",
     "text": [
      "100%|███████████████████████████████████████████████████████████████████████████████████████████████████████████| 3007/3007 [01:47<00:00, 27.95it/s]\n"
     ]
    },
    {
     "name": "stdout",
     "output_type": "stream",
     "text": [
      "1.1831436157226562 1.043591856956482\n",
      "Train Epoch: 88 [21042/48103 (100%)]\tLoss: 1.183144\n",
      "Precision: 95.88 %\n"
     ]
    },
    {
     "name": "stderr",
     "output_type": "stream",
     "text": [
      "100%|███████████████████████████████████████████████████████████████████████████████████████████████████████████| 3007/3007 [01:47<00:00, 28.02it/s]\n"
     ]
    },
    {
     "name": "stdout",
     "output_type": "stream",
     "text": [
      "1.1868258714675903 1.043591856956482\n",
      "Train Epoch: 89 [21042/48103 (100%)]\tLoss: 1.186826\n",
      "Precision: 96.06 %\n"
     ]
    },
    {
     "name": "stderr",
     "output_type": "stream",
     "text": [
      "100%|███████████████████████████████████████████████████████████████████████████████████████████████████████████| 3007/3007 [01:47<00:00, 27.86it/s]\n"
     ]
    },
    {
     "name": "stdout",
     "output_type": "stream",
     "text": [
      "1.0435932874679565 1.043591856956482\n",
      "Train Epoch: 90 [21042/48103 (100%)]\tLoss: 1.043593\n",
      "Precision: 96.09 %\n"
     ]
    },
    {
     "name": "stderr",
     "output_type": "stream",
     "text": [
      "100%|███████████████████████████████████████████████████████████████████████████████████████████████████████████| 3007/3007 [01:47<00:00, 28.05it/s]\n"
     ]
    },
    {
     "name": "stdout",
     "output_type": "stream",
     "text": [
      "1.0437250137329102 1.043591856956482\n",
      "Train Epoch: 91 [21042/48103 (100%)]\tLoss: 1.043725\n",
      "Precision: 96.17 %\n"
     ]
    },
    {
     "name": "stderr",
     "output_type": "stream",
     "text": [
      "100%|███████████████████████████████████████████████████████████████████████████████████████████████████████████| 3007/3007 [01:47<00:00, 27.93it/s]\n"
     ]
    },
    {
     "name": "stdout",
     "output_type": "stream",
     "text": [
      "1.0603338479995728 1.043591856956482\n",
      "Train Epoch: 92 [21042/48103 (100%)]\tLoss: 1.060334\n",
      "Precision: 96.28 %\n"
     ]
    },
    {
     "name": "stderr",
     "output_type": "stream",
     "text": [
      "100%|███████████████████████████████████████████████████████████████████████████████████████████████████████████| 3007/3007 [01:48<00:00, 27.73it/s]\n"
     ]
    },
    {
     "name": "stdout",
     "output_type": "stream",
     "text": [
      "1.043591856956482 1.043591856956482\n",
      "CHECKPOINT ACTIVATED\n",
      "SAVE MODEL PATH: ./DATOS_KAGGLE\\checkpoint.pt\n",
      "Train Epoch: 93 [21042/48103 (100%)]\tLoss: 1.043592\n",
      "Precision: 96.41 %\n"
     ]
    },
    {
     "name": "stderr",
     "output_type": "stream",
     "text": [
      "100%|███████████████████████████████████████████████████████████████████████████████████████████████████████████| 3007/3007 [01:48<00:00, 27.65it/s]\n"
     ]
    },
    {
     "name": "stdout",
     "output_type": "stream",
     "text": [
      "1.0462284088134766 1.043591856956482\n",
      "Train Epoch: 94 [21042/48103 (100%)]\tLoss: 1.046228\n",
      "Precision: 96.69 %\n"
     ]
    },
    {
     "name": "stderr",
     "output_type": "stream",
     "text": [
      "100%|███████████████████████████████████████████████████████████████████████████████████████████████████████████| 3007/3007 [01:49<00:00, 27.37it/s]\n"
     ]
    },
    {
     "name": "stdout",
     "output_type": "stream",
     "text": [
      "1.0458707809448242 1.043591856956482\n",
      "Train Epoch: 95 [21042/48103 (100%)]\tLoss: 1.045871\n",
      "Precision: 96.75 %\n"
     ]
    },
    {
     "name": "stderr",
     "output_type": "stream",
     "text": [
      "100%|███████████████████████████████████████████████████████████████████████████████████████████████████████████| 3007/3007 [01:47<00:00, 27.85it/s]\n"
     ]
    },
    {
     "name": "stdout",
     "output_type": "stream",
     "text": [
      "1.3197664022445679 1.043591856956482\n",
      "Train Epoch: 96 [21042/48103 (100%)]\tLoss: 1.319766\n",
      "Precision: 96.89 %\n"
     ]
    },
    {
     "name": "stderr",
     "output_type": "stream",
     "text": [
      "100%|███████████████████████████████████████████████████████████████████████████████████████████████████████████| 3007/3007 [01:49<00:00, 27.45it/s]\n"
     ]
    },
    {
     "name": "stdout",
     "output_type": "stream",
     "text": [
      "1.2871037721633911 1.043591856956482\n",
      "Train Epoch: 97 [21042/48103 (100%)]\tLoss: 1.287104\n",
      "Precision: 96.91 %\n"
     ]
    },
    {
     "name": "stderr",
     "output_type": "stream",
     "text": [
      "100%|███████████████████████████████████████████████████████████████████████████████████████████████████████████| 3007/3007 [01:47<00:00, 27.86it/s]\n"
     ]
    },
    {
     "name": "stdout",
     "output_type": "stream",
     "text": [
      "1.17730712890625 1.043591856956482\n",
      "Train Epoch: 98 [21042/48103 (100%)]\tLoss: 1.177307\n",
      "Precision: 96.74 %\n"
     ]
    },
    {
     "name": "stderr",
     "output_type": "stream",
     "text": [
      "100%|███████████████████████████████████████████████████████████████████████████████████████████████████████████| 3007/3007 [01:47<00:00, 27.90it/s]\n"
     ]
    },
    {
     "name": "stdout",
     "output_type": "stream",
     "text": [
      "1.06411874294281 1.043591856956482\n",
      "Train Epoch: 99 [21042/48103 (100%)]\tLoss: 1.064119\n",
      "Precision: 97.01 %\n",
      "SAVE MODEL PATH: ./DATOS_KAGGLE\\model.pt\n"
     ]
    },
    {
     "data": {
      "image/png": "[encoded data removed]",
      "text/plain": [
       "<Figure size 640x480 with 1 Axes>"
      ]
     },
     "metadata": {},
     "output_type": "display_data"
    },
    {
     "data": {
      "image/png": "[encoded data removed]",
      "text/plain": [
       "<Figure size 640x480 with 1 Axes>"
      ]
     },
     "metadata": {},
     "output_type": "display_data"
    },
    {
     "name": "stderr",
     "output_type": "stream",
     "text": [
      "100%|█████████████████████████████████████████████████████████████████████████████████████████████████████████████| 531/531 [00:06<00:00, 87.67it/s]\n"
     ]
    },
    {
     "name": "stdout",
     "output_type": "stream",
     "text": [
      "\n",
      "Accuracy:\t 87.57 %\n"
     ]
    },
    {
     "data": {
      "image/png": "[encoded data removed]",
      "text/plain": [
       "<Figure size 640x480 with 2 Axes>"
      ]
     },
     "metadata": {},
     "output_type": "display_data"
    }
   ],
   "source": [
    "#model = load_Model(model, 'model.pt')\n",
    "EPOCHS  = 100\n",
    "NETWORK = 'PRETRAINED'\n",
    "LEARNING_RATE = 0.15\n",
    "DROPOUT = 0.40\n",
    "\n",
    "optimizers = ['SGD']\n",
    "print(optimizers)\n",
    "for opt in optimizers:\n",
    "    model = get_Model(NETWORK)\n",
    "    optimizer = optim.SGD(model.parameters(), lr = LEARNING_RATE)\n",
    "    if opt == 'ADAM':\n",
    "        optimizer = optim.Adam(model.parameters(), lr = LEARNING_RATE)\n",
    "    if opt == 'RMSprop':\n",
    "        optimizer = optim.RMSprop(model.parameters(), lr = LEARNING_RATE)\n",
    "        \n",
    "    model, loss_epoch, precision_epoch = train_Model(model)\n",
    "    plot_Results(loss_epoch, precision_epoch)\n",
    "    accuracy = eval_Model(model)\n",
    "    name = ''.join(['FINAL_','KAGGLE','.txt'])\n",
    "    with open(name, \"w\") as archivo:\n",
    "        text = ''.join(['EPOCHS:', str(EPOCHS) ,  '\\n',\n",
    "                         'LEARNING RATE:', str(LEARNING_RATE), '\\n',\n",
    "                         'DROPOUT:', str(DROPOUT), '\\n',\n",
    "                         'ACCURACY:', str(accuracy), '\\n'])\n",
    "        archivo.write(text)"
   ]
  },
  {
   "cell_type": "code",
   "execution_count": null,
   "id": "3fb053bb-1199-475b-b6af-f401f3c7a873",
   "metadata": {},
   "outputs": [],
   "source": []
  }
 ],
 "metadata": {
  "colab": {
   "provenance": []
  },
  "kernelspec": {
   "display_name": "Python 3 (ipykernel)",
   "language": "python",
   "name": "python3"
  },
  "language_info": {
   "codemirror_mode": {
    "name": "ipython",
    "version": 3
   },
   "file_extension": ".py",
   "mimetype": "text/x-python",
   "name": "python",
   "nbconvert_exporter": "python",
   "pygments_lexer": "ipython3",
   "version": "3.9.13"
  }
 },
 "nbformat": 4,
 "nbformat_minor": 5
}
